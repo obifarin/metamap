{
 "cells": [
  {
   "cell_type": "markdown",
   "metadata": {
    "id": "cXU99pBHVuAO"
   },
   "source": [
    "# Dimensionality Reduction for Embedding."
   ]
  },
  {
   "cell_type": "markdown",
   "metadata": {
    "id": "ZjR1ygG99pv3"
   },
   "source": [
    "Contains evaluation of dimensionality reductions of embeddings."
   ]
  },
  {
   "cell_type": "markdown",
   "metadata": {
    "id": "qOiS_RKqMv-3"
   },
   "source": [
    "## Setting up Workspace"
   ]
  },
  {
   "cell_type": "markdown",
   "metadata": {
    "id": "sMpr0bKCNJCr",
    "jp-MarkdownHeadingCollapsed": true,
    "tags": []
   },
   "source": [
    "### Set up GPUs"
   ]
  },
  {
   "cell_type": "code",
   "execution_count": null,
   "metadata": {
    "colab": {
     "base_uri": "https://localhost:8080/"
    },
    "executionInfo": {
     "elapsed": 340,
     "status": "ok",
     "timestamp": 1725510705065,
     "user": {
      "displayName": "Aditya Simhadri",
      "userId": "01099507300191396771"
     },
     "user_tz": 240
    },
    "id": "oYsUbO0QXaDp",
    "outputId": "efd8d005-1c26-48e9-ca27-00fa98ccd4fb"
   },
   "outputs": [
    {
     "name": "stdout",
     "output_type": "stream",
     "text": [
      "Thu Sep  5 04:31:44 2024       \n",
      "+---------------------------------------------------------------------------------------+\n",
      "| NVIDIA-SMI 535.104.05             Driver Version: 535.104.05   CUDA Version: 12.2     |\n",
      "|-----------------------------------------+----------------------+----------------------+\n",
      "| GPU  Name                 Persistence-M | Bus-Id        Disp.A | Volatile Uncorr. ECC |\n",
      "| Fan  Temp   Perf          Pwr:Usage/Cap |         Memory-Usage | GPU-Util  Compute M. |\n",
      "|                                         |                      |               MIG M. |\n",
      "|=========================================+======================+======================|\n",
      "|   0  Tesla T4                       Off | 00000000:00:04.0 Off |                    0 |\n",
      "| N/A   48C    P8              12W /  70W |      0MiB / 15360MiB |      0%      Default |\n",
      "|                                         |                      |                  N/A |\n",
      "+-----------------------------------------+----------------------+----------------------+\n",
      "                                                                                         \n",
      "+---------------------------------------------------------------------------------------+\n",
      "| Processes:                                                                            |\n",
      "|  GPU   GI   CI        PID   Type   Process name                            GPU Memory |\n",
      "|        ID   ID                                                             Usage      |\n",
      "|=======================================================================================|\n",
      "|  No running processes found                                                           |\n",
      "+---------------------------------------------------------------------------------------+\n"
     ]
    }
   ],
   "source": [
    "# GPU information:\n",
    "\n",
    "gpu_info = !nvidia-smi\n",
    "gpu_info = '\\n'.join(gpu_info)\n",
    "if gpu_info.find('failed') >= 0:\n",
    "  print('Not connected to a GPU')\n",
    "else:\n",
    "  print(gpu_info)"
   ]
  },
  {
   "cell_type": "markdown",
   "metadata": {
    "id": "oNZZAnALx77r"
   },
   "source": [
    "In order to use a GPU with your notebook, select the **Runtime > Change runtime** type menu, and then set the hardware accelerator dropdown to GPU."
   ]
  },
  {
   "cell_type": "markdown",
   "metadata": {
    "id": "vBvdlsVqwe9F",
    "jp-MarkdownHeadingCollapsed": true,
    "tags": []
   },
   "source": [
    "### High RAM"
   ]
  },
  {
   "cell_type": "code",
   "execution_count": null,
   "metadata": {
    "colab": {
     "base_uri": "https://localhost:8080/"
    },
    "executionInfo": {
     "elapsed": 5,
     "status": "ok",
     "timestamp": 1725510705375,
     "user": {
      "displayName": "Aditya Simhadri",
      "userId": "01099507300191396771"
     },
     "user_tz": 240
    },
    "id": "1wiStdW5xdqC",
    "outputId": "47f11ffe-23e3-42d4-fce8-da13fa9b7155"
   },
   "outputs": [
    {
     "name": "stdout",
     "output_type": "stream",
     "text": [
      "Your runtime has 13.6 gigabytes of available RAM\n",
      "\n",
      "Not using a high-RAM runtime\n"
     ]
    }
   ],
   "source": [
    "from psutil import virtual_memory\n",
    "ram_gb = virtual_memory().total / 1e9\n",
    "print('Your runtime has {:.1f} gigabytes of available RAM\\n'.format(ram_gb))\n",
    "\n",
    "if ram_gb < 20:\n",
    "  print('Not using a high-RAM runtime')\n",
    "else:\n",
    "  print('You are using a high-RAM runtime!')"
   ]
  },
  {
   "cell_type": "markdown",
   "metadata": {
    "id": "o6ZHs7BgxzgW"
   },
   "source": [
    "Users who have purchased one of Colab's paid plans have access to high-memory VMs when they are available.\n",
    "\n",
    "You can see how much memory you have available at any time by running the following code cell. If the execution result of running the code cell below is \"Not using a high-RAM runtime\", then you can enable a high-RAM runtime via **Runtime > Change runtime** type in the menu. Then select High-RAM in the Runtime shape dropdown. After, re-execute the code cell."
   ]
  },
  {
   "cell_type": "markdown",
   "metadata": {
    "id": "NqLpJn395RFI",
    "jp-MarkdownHeadingCollapsed": true,
    "tags": []
   },
   "source": [
    "### Set up Libraries"
   ]
  },
  {
   "cell_type": "code",
   "execution_count": null,
   "metadata": {
    "colab": {
     "base_uri": "https://localhost:8080/"
    },
    "executionInfo": {
     "elapsed": 44346,
     "status": "ok",
     "timestamp": 1738592259043,
     "user": {
      "displayName": "Olatomiwa Bifarin",
      "userId": "06174025613084979381"
     },
     "user_tz": 300
    },
    "id": "1rNbWySG7nmY",
    "outputId": "841e0b3f-5bf3-41ce-9975-990a26c6fa9c"
   },
   "outputs": [
    {
     "name": "stdout",
     "output_type": "stream",
     "text": [
      "\u001b[2K     \u001b[90m━━━━━━━━━━━━━━━━━━━━━━━━━━━━━━━━━━━━━━━━\u001b[0m \u001b[32m90.9/90.9 kB\u001b[0m \u001b[31m7.7 MB/s\u001b[0m eta \u001b[36m0:00:00\u001b[0m\n",
      "\u001b[?25h  Preparing metadata (setup.py) ... \u001b[?25l\u001b[?25hdone\n",
      "\u001b[2K   \u001b[90m━━━━━━━━━━━━━━━━━━━━━━━━━━━━━━━━━━━━━━━━\u001b[0m \u001b[32m4.8/4.8 MB\u001b[0m \u001b[31m65.7 MB/s\u001b[0m eta \u001b[36m0:00:00\u001b[0m\n",
      "\u001b[2K   \u001b[90m━━━━━━━━━━━━━━━━━━━━━━━━━━━━━━━━━━━━━━━━\u001b[0m \u001b[32m18.2/18.2 MB\u001b[0m \u001b[31m87.2 MB/s\u001b[0m eta \u001b[36m0:00:00\u001b[0m\n",
      "\u001b[2K   \u001b[90m━━━━━━━━━━━━━━━━━━━━━━━━━━━━━━━━━━━━━━━━\u001b[0m \u001b[32m12.0/12.0 MB\u001b[0m \u001b[31m104.3 MB/s\u001b[0m eta \u001b[36m0:00:00\u001b[0m\n",
      "\u001b[2K   \u001b[90m━━━━━━━━━━━━━━━━━━━━━━━━━━━━━━━━━━━━━━━━\u001b[0m \u001b[32m15.5/15.5 MB\u001b[0m \u001b[31m75.8 MB/s\u001b[0m eta \u001b[36m0:00:00\u001b[0m\n",
      "\u001b[2K   \u001b[90m━━━━━━━━━━━━━━━━━━━━━━━━━━━━━━━━━━━━━━━━\u001b[0m \u001b[32m9.6/9.6 MB\u001b[0m \u001b[31m97.1 MB/s\u001b[0m eta \u001b[36m0:00:00\u001b[0m\n",
      "\u001b[2K   \u001b[90m━━━━━━━━━━━━━━━━━━━━━━━━━━━━━━━━━━━━━━━━\u001b[0m \u001b[32m79.9/79.9 MB\u001b[0m \u001b[31m9.4 MB/s\u001b[0m eta \u001b[36m0:00:00\u001b[0m\n",
      "\u001b[2K   \u001b[90m━━━━━━━━━━━━━━━━━━━━━━━━━━━━━━━━━━━━━━━━\u001b[0m \u001b[32m56.9/56.9 kB\u001b[0m \u001b[31m5.8 MB/s\u001b[0m eta \u001b[36m0:00:00\u001b[0m\n",
      "\u001b[?25h  Building wheel for umap-learn (setup.py) ... \u001b[?25l\u001b[?25hdone\n",
      "\u001b[31mERROR: pip's dependency resolver does not currently take into account all the packages that are installed. This behaviour is the source of the following dependency conflicts.\n",
      "google-colab 1.0.0 requires pandas==2.2.2, but you have pandas 1.5.3 which is incompatible.\n",
      "mlxtend 0.23.4 requires scikit-learn>=1.3.1, but you have scikit-learn 1.2.2 which is incompatible.\n",
      "plotnine 0.14.5 requires pandas>=2.2.0, but you have pandas 1.5.3 which is incompatible.\n",
      "imbalanced-learn 0.13.0 requires scikit-learn<2,>=1.3.2, but you have scikit-learn 1.2.2 which is incompatible.\n",
      "tensorflow 2.18.0 requires h5py>=3.11.0, but you have h5py 3.9.0 which is incompatible.\n",
      "tensorflow 2.18.0 requires numpy<2.1.0,>=1.26.0, but you have numpy 1.25.2 which is incompatible.\n",
      "mizani 0.13.1 requires pandas>=2.2.0, but you have pandas 1.5.3 which is incompatible.\n",
      "cudf-cu12 24.12.0 requires pandas<2.2.4dev0,>=2.0, but you have pandas 1.5.3 which is incompatible.\n",
      "xarray 2025.1.1 requires pandas>=2.1, but you have pandas 1.5.3 which is incompatible.\u001b[0m\u001b[31m\n",
      "\u001b[0m"
     ]
    }
   ],
   "source": [
    "# Installing all library dependencies with their versions.\n",
    "# This could take up to 3 minutes to run.\n",
    "\n",
    "!pip install --quiet h5py==3.9.0 numpy==1.25.2 pandas==1.5.3 plotly==5.15.0 psutil==5.9.5 scikit-learn==1.2.2 umap-learn==0.5.5 kaleido==0.2.1"
   ]
  },
  {
   "cell_type": "code",
   "execution_count": null,
   "metadata": {
    "colab": {
     "base_uri": "https://localhost:8080/"
    },
    "executionInfo": {
     "elapsed": 4729,
     "status": "ok",
     "timestamp": 1738592263770,
     "user": {
      "displayName": "Olatomiwa Bifarin",
      "userId": "06174025613084979381"
     },
     "user_tz": 300
    },
    "id": "bblfCg7GBJVr",
    "outputId": "08fc3cd0-f437-4078-bc9d-3ad74133b278"
   },
   "outputs": [
    {
     "name": "stdout",
     "output_type": "stream",
     "text": [
      "1.2.2\n",
      "2.5.1+cu124\n"
     ]
    }
   ],
   "source": [
    "#if the torch version from the utput above differ from the one from this cell,\n",
    "#this is the correct one.\n",
    "import torch\n",
    "import sklearn\n",
    "print(sklearn.__version__)\n",
    "print(torch.__version__)"
   ]
  },
  {
   "cell_type": "markdown",
   "metadata": {
    "id": "z3J3HXdo2b2e",
    "jp-MarkdownHeadingCollapsed": true,
    "tags": []
   },
   "source": [
    "## Load Embeddings"
   ]
  },
  {
   "cell_type": "code",
   "execution_count": null,
   "metadata": {
    "id": "VEHDSPzkV-C5"
   },
   "outputs": [],
   "source": [
    "import pandas as pd\n",
    "df = pd.read_hdf('Files/embeddings_full_tSNE_uMAP_01MAR2024.h5', key='embeddings')"
   ]
  },
  {
   "cell_type": "code",
   "execution_count": null,
   "metadata": {
    "colab": {
     "base_uri": "https://localhost:8080/",
     "height": 591
    },
    "executionInfo": {
     "elapsed": 672,
     "status": "ok",
     "timestamp": 1738592289090,
     "user": {
      "displayName": "Olatomiwa Bifarin",
      "userId": "06174025613084979381"
     },
     "user_tz": 300
    },
    "id": "IexO-Kbj4zdF",
    "outputId": "af2e0dd1-2216-4f18-83e9-b7f1b280e2b1"
   },
   "outputs": [
    {
     "data": {
      "application/vnd.google.colaboratory.intrinsic+json": {
       "summary": "{\n  \"name\": \"df\",\n  \"rows\": 80656,\n  \"fields\": [\n    {\n      \"column\": \"pmid\",\n      \"properties\": {\n        \"dtype\": \"number\",\n        \"std\": 5237503,\n        \"min\": 9748443,\n        \"max\": 38377545,\n        \"num_unique_values\": 80656,\n        \"samples\": [\n          33463536,\n          31434796,\n          36445079\n        ],\n        \"semantic_type\": \"\",\n        \"description\": \"\"\n      }\n    },\n    {\n      \"column\": \"title\",\n      \"properties\": {\n        \"dtype\": \"string\",\n        \"num_unique_values\": 80599,\n        \"samples\": [\n          \"Responsive MRI agents for sensing metabolism in vivo.\",\n          \"Metabolomics and Machine Learning Identify Metabolic Differences and Potential Biomarkers for Frequent Versus Infrequent Gout Flares.\",\n          \"Postprandial NMR-Based Metabolic Exchanges Reflect Impaired Phenotypic Flexibility across Splanchnic Organs in the Obese Yucatan Mini-Pig.\"\n        ],\n        \"semantic_type\": \"\",\n        \"description\": \"\"\n      }\n    },\n    {\n      \"column\": \"abstract\",\n      \"properties\": {\n        \"dtype\": \"string\",\n        \"num_unique_values\": 80583,\n        \"samples\": [\n          \"Drought is a misfortune for agriculture and human beings. The annual crop yield reduction caused by drought exceeds the sum of all pathogens. As one of the gatekeepers of China's \\\"granary\\\", rice is the most important to reveal the key drought tolerance factors in rice. Rice seedlings of Nipponbare (Oryza sativa L. ssp. Japonica) were subjected to simulated drought stress, and their root systems were analyzed for the non-targeted metabolome and strand-specific transcriptome. We found that both DEGs and metabolites were enriched in purine metabolism, and allantoin accumulated significantly in roots under drought stress. However, few studies on drought tolerance of exogenous allantoin in rice have been reported. We aimed to further determine whether allantoin can improve the drought tolerance of rice. Under the treatment of exogenous allantoin at different concentrations, the drought resistant metabolites of plants accumulated significantly, including proline and soluble sugar, and reactive oxygen species (ROS) decreased and reached a significant level in 100 \\u03bcmol L[-1]. To this end, a follow-up study was identified in 100 \\u03bcmol L[-1] exogenous allantoin and found that exogenous allantoin improved the drought resistance of rice. At the gene level, under allantoin drought treatment, we found that genes of scavenge reactive oxygen species were significantly expressed, including peroxidase (POD), catalase (CATA), ascorbate peroxidase 8 (APX8) and respiratory burst oxidase homolog protein F (RbohF). This indicates that plants treated by allantoin have better ability to scavenge reactive oxygen species to resist drought. Alternative splicing analysis revealed a total of 427 differentially expressed alternative splicing events across 320 genes. The analysis of splicing factors showed that gene alternative splicing could be divided into many different subgroups and play a regulatory role in many aspects. Through further analysis, we restated the key genes and enzymes in the allantoin synthesis and catabolism pathway, and found that the expression of synthetase and hydrolase showed a downward trend. The pathway of uric acid to allantoin is completed by uric acid oxidase (UOX). To find out the key transcription factors that regulate the expression of this gene, we identified two highly related transcription factors OsERF059 and ONAC007 through correlation analysis. They may be the key for allantoin to enhance the drought resistance of rice.\",\n          \"The study aim was to evaluate the effects of public lockdown during the covid-19 pandemic on glucose and metabolic parameters as well as body weight control in type 2 diabetic patients.\",\n          \"1. Geniposide (genipin 1-O-glucose), one of the major bioactive constituents isolated from Fructus Gardeniae, possesses many biological activities. In this study, an efficient strategy was developed using ultra-high-performance liquid chromatography coupled with linear ion trap-Orbitrap mass spectrometer (UPLC-LTQ-Orbitrap) to profile the in vitro and in vivo metabolic patterns of geniposide in rat liver microsomes (RLMs), plasma, urine, and various tissues. And post-acquisition data-mining methods including extracted ion chromatogram (EIC), multiple mass defect filters (MMDF), fragment ion searching (FISh), and isotope pattern filtering (IPF) were adopted to characterize the known and unknown metabolites. 2. A total of 33 metabolites were detected and interpreted according to accurate mass measurement, diagnostic fragment ions, relevant drug biotransformation knowledge, and bibliography data. Among them, 17 metabolites were detected in the plasma, 31 metabolites were identified in the urine, six metabolites could be found in rat heart, 12 in liver, three in spleen, six in lung, 12 in kidney, six in brain, and four in RLMs. 3. A series of corresponding reactions such as hydrolysis, hydroxylation, taurine conjugation, hydrogenation, decarboxylation, demethylation, sulfate conjugation, cysteine S-conjugation, glucosylation, and their composite reactions were all discovered. 4. The results could provide comprehensive insights and guidance for elucidation of side effect mechanism and safety monitoring as well as for rational formulation design in drug delivery system. The newly discovered geniposide metabolites could be targets for future metabolism studies on the important chemical constituents from herbal medicines.\"\n        ],\n        \"semantic_type\": \"\",\n        \"description\": \"\"\n      }\n    },\n    {\n      \"column\": \"language\",\n      \"properties\": {\n        \"dtype\": \"category\",\n        \"num_unique_values\": 17,\n        \"samples\": [\n          \"eng\",\n          \"jpn\",\n          \"ita\"\n        ],\n        \"semantic_type\": \"\",\n        \"description\": \"\"\n      }\n    },\n    {\n      \"column\": \"journal_title\",\n      \"properties\": {\n        \"dtype\": \"category\",\n        \"num_unique_values\": 4076,\n        \"samples\": [\n          \"Biopreservation and biobanking\",\n          \"Horticulture research\",\n          \"IET systems biology\"\n        ],\n        \"semantic_type\": \"\",\n        \"description\": \"\"\n      }\n    },\n    {\n      \"column\": \"pub_year\",\n      \"properties\": {\n        \"dtype\": \"number\",\n        \"std\": 4.043198893232241,\n        \"min\": 1998.0,\n        \"max\": 2024.0,\n        \"num_unique_values\": 27,\n        \"samples\": [\n          2006.0,\n          2011.0,\n          2007.0\n        ],\n        \"semantic_type\": \"\",\n        \"description\": \"\"\n      }\n    },\n    {\n      \"column\": \"authors\",\n      \"properties\": {\n        \"dtype\": \"string\",\n        \"num_unique_values\": 79234,\n        \"samples\": [\n          \"Dona AC, Jim\\u00e9nez B, Sch\\u00e4fer H, Humpfer E, Spraul M, Lewis MR, Pearce JT, Holmes E, Lindon JC, Nicholson JK\",\n          \"Patel K, Lindsey J, Angelidou K, Aldrovandi G, Palumbo P\",\n          \"Meng X, Jayasundara N, Zhang J, Ren X, Gao B, Li J, Liu P\"\n        ],\n        \"semantic_type\": \"\",\n        \"description\": \"\"\n      }\n    },\n    {\n      \"column\": \"predicted_category\",\n      \"properties\": {\n        \"dtype\": \"category\",\n        \"num_unique_values\": 20,\n        \"samples\": [\n          \"Microbiology\",\n          \"Aging & Gerontology\",\n          \"Nephrology\"\n        ],\n        \"semantic_type\": \"\",\n        \"description\": \"\"\n      }\n    },\n    {\n      \"column\": \"full_embeddings\",\n      \"properties\": {\n        \"dtype\": \"object\",\n        \"semantic_type\": \"\",\n        \"description\": \"\"\n      }\n    },\n    {\n      \"column\": \"umap_2D_x\",\n      \"properties\": {\n        \"dtype\": \"float32\",\n        \"num_unique_values\": 80385,\n        \"samples\": [\n          4.936419486999512,\n          4.239068984985352,\n          10.19593620300293\n        ],\n        \"semantic_type\": \"\",\n        \"description\": \"\"\n      }\n    },\n    {\n      \"column\": \"umap_2D_y\",\n      \"properties\": {\n        \"dtype\": \"float32\",\n        \"num_unique_values\": 80482,\n        \"samples\": [\n          2.8839457035064697,\n          5.86353063583374,\n          8.207853317260742\n        ],\n        \"semantic_type\": \"\",\n        \"description\": \"\"\n      }\n    },\n    {\n      \"column\": \"umap_3D_x\",\n      \"properties\": {\n        \"dtype\": \"float32\",\n        \"num_unique_values\": 80309,\n        \"samples\": [\n          5.784459590911865,\n          4.330934524536133,\n          7.4578094482421875\n        ],\n        \"semantic_type\": \"\",\n        \"description\": \"\"\n      }\n    },\n    {\n      \"column\": \"umap_3D_y\",\n      \"properties\": {\n        \"dtype\": \"float32\",\n        \"num_unique_values\": 80424,\n        \"samples\": [\n          9.25174617767334,\n          5.252988815307617,\n          7.045469760894775\n        ],\n        \"semantic_type\": \"\",\n        \"description\": \"\"\n      }\n    },\n    {\n      \"column\": \"umap_3D_z\",\n      \"properties\": {\n        \"dtype\": \"float32\",\n        \"num_unique_values\": 80350,\n        \"samples\": [\n          3.744140863418579,\n          3.4196255207061768,\n          4.59562349319458\n        ],\n        \"semantic_type\": \"\",\n        \"description\": \"\"\n      }\n    },\n    {\n      \"column\": \"tsne_2D_x\",\n      \"properties\": {\n        \"dtype\": \"float32\",\n        \"num_unique_values\": 80533,\n        \"samples\": [\n          30.95949935913086,\n          -49.041751861572266,\n          -32.84935760498047\n        ],\n        \"semantic_type\": \"\",\n        \"description\": \"\"\n      }\n    },\n    {\n      \"column\": \"tsne_2D_y\",\n      \"properties\": {\n        \"dtype\": \"float32\",\n        \"num_unique_values\": 80529,\n        \"samples\": [\n          62.61643600463867,\n          -50.186248779296875,\n          71.58711242675781\n        ],\n        \"semantic_type\": \"\",\n        \"description\": \"\"\n      }\n    }\n  ]\n}",
       "type": "dataframe",
       "variable_name": "df"
      },
      "text/html": [
       "\n",
       "  <div id=\"df-53552a7c-ca03-4475-8135-23f5823894b5\" class=\"colab-df-container\">\n",
       "    <div>\n",
       "<style scoped>\n",
       "    .dataframe tbody tr th:only-of-type {\n",
       "        vertical-align: middle;\n",
       "    }\n",
       "\n",
       "    .dataframe tbody tr th {\n",
       "        vertical-align: top;\n",
       "    }\n",
       "\n",
       "    .dataframe thead th {\n",
       "        text-align: right;\n",
       "    }\n",
       "</style>\n",
       "<table border=\"1\" class=\"dataframe\">\n",
       "  <thead>\n",
       "    <tr style=\"text-align: right;\">\n",
       "      <th></th>\n",
       "      <th>pmid</th>\n",
       "      <th>title</th>\n",
       "      <th>abstract</th>\n",
       "      <th>language</th>\n",
       "      <th>journal_title</th>\n",
       "      <th>pub_year</th>\n",
       "      <th>authors</th>\n",
       "      <th>predicted_category</th>\n",
       "      <th>full_embeddings</th>\n",
       "      <th>umap_2D_x</th>\n",
       "      <th>umap_2D_y</th>\n",
       "      <th>umap_3D_x</th>\n",
       "      <th>umap_3D_y</th>\n",
       "      <th>umap_3D_z</th>\n",
       "      <th>tsne_2D_x</th>\n",
       "      <th>tsne_2D_y</th>\n",
       "    </tr>\n",
       "  </thead>\n",
       "  <tbody>\n",
       "    <tr>\n",
       "      <th>0</th>\n",
       "      <td>9748443</td>\n",
       "      <td>Effect of slow growth on metabolism of Escheri...</td>\n",
       "      <td>Escherichia coli growing on glucose in minimal...</td>\n",
       "      <td>eng</td>\n",
       "      <td>Journal of bacteriology</td>\n",
       "      <td>1998.0</td>\n",
       "      <td>Tweeddale H, Notley-McRobb L, Ferenci T</td>\n",
       "      <td>Microbiology</td>\n",
       "      <td>[[0.04921199, 0.1013429, 0.009529841, -0.08067...</td>\n",
       "      <td>7.770308</td>\n",
       "      <td>7.748135</td>\n",
       "      <td>8.087116</td>\n",
       "      <td>7.735348</td>\n",
       "      <td>6.041772</td>\n",
       "      <td>-18.861538</td>\n",
       "      <td>25.245789</td>\n",
       "    </tr>\n",
       "    <tr>\n",
       "      <th>1</th>\n",
       "      <td>10675895</td>\n",
       "      <td>On the optimization of classes for the assignm...</td>\n",
       "      <td>At present, the assignment of function to nove...</td>\n",
       "      <td>eng</td>\n",
       "      <td>Trends in biotechnology</td>\n",
       "      <td>2000.0</td>\n",
       "      <td>Kell DB, King RD</td>\n",
       "      <td>unlabeled</td>\n",
       "      <td>[[0.074717656, 0.12005615, 0.023376802, 0.0167...</td>\n",
       "      <td>3.692910</td>\n",
       "      <td>6.724228</td>\n",
       "      <td>4.727096</td>\n",
       "      <td>6.715599</td>\n",
       "      <td>7.221296</td>\n",
       "      <td>45.593254</td>\n",
       "      <td>63.230408</td>\n",
       "    </tr>\n",
       "    <tr>\n",
       "      <th>2</th>\n",
       "      <td>10731098</td>\n",
       "      <td>Assessing the effect of reactive oxygen specie...</td>\n",
       "      <td>A two-dimensional thin-layer chromatographic a...</td>\n",
       "      <td>eng</td>\n",
       "      <td>Redox report : communications in free radical ...</td>\n",
       "      <td>1999.0</td>\n",
       "      <td>Tweeddale H, Notley-McRobb L, Ferenci T</td>\n",
       "      <td>unlabeled</td>\n",
       "      <td>[[-0.009071778, 0.013007838, -0.0069063944, -0...</td>\n",
       "      <td>8.485703</td>\n",
       "      <td>8.156181</td>\n",
       "      <td>8.033753</td>\n",
       "      <td>7.959665</td>\n",
       "      <td>5.779803</td>\n",
       "      <td>-18.892046</td>\n",
       "      <td>25.188398</td>\n",
       "    </tr>\n",
       "    <tr>\n",
       "      <th>3</th>\n",
       "      <td>10797602</td>\n",
       "      <td>Current awareness on comparative and functiona...</td>\n",
       "      <td>In order to keep subscribers up-to-date with t...</td>\n",
       "      <td>eng</td>\n",
       "      <td>Yeast (Chichester, England)</td>\n",
       "      <td>2000.0</td>\n",
       "      <td>NaN</td>\n",
       "      <td>Microbiology</td>\n",
       "      <td>[[-0.07259704, 0.09568493, -0.023760073, -0.06...</td>\n",
       "      <td>3.549895</td>\n",
       "      <td>5.858758</td>\n",
       "      <td>4.250017</td>\n",
       "      <td>5.822019</td>\n",
       "      <td>7.294538</td>\n",
       "      <td>56.503429</td>\n",
       "      <td>61.751530</td>\n",
       "    </tr>\n",
       "    <tr>\n",
       "      <th>4</th>\n",
       "      <td>10894722</td>\n",
       "      <td>Global adaptations resulting from high populat...</td>\n",
       "      <td>The scope of population density effects was in...</td>\n",
       "      <td>eng</td>\n",
       "      <td>Journal of bacteriology</td>\n",
       "      <td>2000.0</td>\n",
       "      <td>Liu X, Ng C, Ferenci T</td>\n",
       "      <td>Microbiology</td>\n",
       "      <td>[[0.05038802, 0.1111884, -0.044020668, -0.1404...</td>\n",
       "      <td>7.744527</td>\n",
       "      <td>7.660304</td>\n",
       "      <td>8.108534</td>\n",
       "      <td>7.661770</td>\n",
       "      <td>6.145030</td>\n",
       "      <td>-18.486111</td>\n",
       "      <td>25.036968</td>\n",
       "    </tr>\n",
       "  </tbody>\n",
       "</table>\n",
       "</div>\n",
       "    <div class=\"colab-df-buttons\">\n",
       "\n",
       "  <div class=\"colab-df-container\">\n",
       "    <button class=\"colab-df-convert\" onclick=\"convertToInteractive('df-53552a7c-ca03-4475-8135-23f5823894b5')\"\n",
       "            title=\"Convert this dataframe to an interactive table.\"\n",
       "            style=\"display:none;\">\n",
       "\n",
       "  <svg xmlns=\"http://www.w3.org/2000/svg\" height=\"24px\" viewBox=\"0 -960 960 960\">\n",
       "    <path d=\"M120-120v-720h720v720H120Zm60-500h600v-160H180v160Zm220 220h160v-160H400v160Zm0 220h160v-160H400v160ZM180-400h160v-160H180v160Zm440 0h160v-160H620v160ZM180-180h160v-160H180v160Zm440 0h160v-160H620v160Z\"/>\n",
       "  </svg>\n",
       "    </button>\n",
       "\n",
       "  <style>\n",
       "    .colab-df-container {\n",
       "      display:flex;\n",
       "      gap: 12px;\n",
       "    }\n",
       "\n",
       "    .colab-df-convert {\n",
       "      background-color: #E8F0FE;\n",
       "      border: none;\n",
       "      border-radius: 50%;\n",
       "      cursor: pointer;\n",
       "      display: none;\n",
       "      fill: #1967D2;\n",
       "      height: 32px;\n",
       "      padding: 0 0 0 0;\n",
       "      width: 32px;\n",
       "    }\n",
       "\n",
       "    .colab-df-convert:hover {\n",
       "      background-color: #E2EBFA;\n",
       "      box-shadow: 0px 1px 2px rgba(60, 64, 67, 0.3), 0px 1px 3px 1px rgba(60, 64, 67, 0.15);\n",
       "      fill: #174EA6;\n",
       "    }\n",
       "\n",
       "    .colab-df-buttons div {\n",
       "      margin-bottom: 4px;\n",
       "    }\n",
       "\n",
       "    [theme=dark] .colab-df-convert {\n",
       "      background-color: #3B4455;\n",
       "      fill: #D2E3FC;\n",
       "    }\n",
       "\n",
       "    [theme=dark] .colab-df-convert:hover {\n",
       "      background-color: #434B5C;\n",
       "      box-shadow: 0px 1px 3px 1px rgba(0, 0, 0, 0.15);\n",
       "      filter: drop-shadow(0px 1px 2px rgba(0, 0, 0, 0.3));\n",
       "      fill: #FFFFFF;\n",
       "    }\n",
       "  </style>\n",
       "\n",
       "    <script>\n",
       "      const buttonEl =\n",
       "        document.querySelector('#df-53552a7c-ca03-4475-8135-23f5823894b5 button.colab-df-convert');\n",
       "      buttonEl.style.display =\n",
       "        google.colab.kernel.accessAllowed ? 'block' : 'none';\n",
       "\n",
       "      async function convertToInteractive(key) {\n",
       "        const element = document.querySelector('#df-53552a7c-ca03-4475-8135-23f5823894b5');\n",
       "        const dataTable =\n",
       "          await google.colab.kernel.invokeFunction('convertToInteractive',\n",
       "                                                    [key], {});\n",
       "        if (!dataTable) return;\n",
       "\n",
       "        const docLinkHtml = 'Like what you see? Visit the ' +\n",
       "          '<a target=\"_blank\" href=https://colab.research.google.com/notebooks/data_table.ipynb>data table notebook</a>'\n",
       "          + ' to learn more about interactive tables.';\n",
       "        element.innerHTML = '';\n",
       "        dataTable['output_type'] = 'display_data';\n",
       "        await google.colab.output.renderOutput(dataTable, element);\n",
       "        const docLink = document.createElement('div');\n",
       "        docLink.innerHTML = docLinkHtml;\n",
       "        element.appendChild(docLink);\n",
       "      }\n",
       "    </script>\n",
       "  </div>\n",
       "\n",
       "\n",
       "<div id=\"df-e80fe86b-5e04-4acd-ac1f-65d4449e1a35\">\n",
       "  <button class=\"colab-df-quickchart\" onclick=\"quickchart('df-e80fe86b-5e04-4acd-ac1f-65d4449e1a35')\"\n",
       "            title=\"Suggest charts\"\n",
       "            style=\"display:none;\">\n",
       "\n",
       "<svg xmlns=\"http://www.w3.org/2000/svg\" height=\"24px\"viewBox=\"0 0 24 24\"\n",
       "     width=\"24px\">\n",
       "    <g>\n",
       "        <path d=\"M19 3H5c-1.1 0-2 .9-2 2v14c0 1.1.9 2 2 2h14c1.1 0 2-.9 2-2V5c0-1.1-.9-2-2-2zM9 17H7v-7h2v7zm4 0h-2V7h2v10zm4 0h-2v-4h2v4z\"/>\n",
       "    </g>\n",
       "</svg>\n",
       "  </button>\n",
       "\n",
       "<style>\n",
       "  .colab-df-quickchart {\n",
       "      --bg-color: #E8F0FE;\n",
       "      --fill-color: #1967D2;\n",
       "      --hover-bg-color: #E2EBFA;\n",
       "      --hover-fill-color: #174EA6;\n",
       "      --disabled-fill-color: #AAA;\n",
       "      --disabled-bg-color: #DDD;\n",
       "  }\n",
       "\n",
       "  [theme=dark] .colab-df-quickchart {\n",
       "      --bg-color: #3B4455;\n",
       "      --fill-color: #D2E3FC;\n",
       "      --hover-bg-color: #434B5C;\n",
       "      --hover-fill-color: #FFFFFF;\n",
       "      --disabled-bg-color: #3B4455;\n",
       "      --disabled-fill-color: #666;\n",
       "  }\n",
       "\n",
       "  .colab-df-quickchart {\n",
       "    background-color: var(--bg-color);\n",
       "    border: none;\n",
       "    border-radius: 50%;\n",
       "    cursor: pointer;\n",
       "    display: none;\n",
       "    fill: var(--fill-color);\n",
       "    height: 32px;\n",
       "    padding: 0;\n",
       "    width: 32px;\n",
       "  }\n",
       "\n",
       "  .colab-df-quickchart:hover {\n",
       "    background-color: var(--hover-bg-color);\n",
       "    box-shadow: 0 1px 2px rgba(60, 64, 67, 0.3), 0 1px 3px 1px rgba(60, 64, 67, 0.15);\n",
       "    fill: var(--button-hover-fill-color);\n",
       "  }\n",
       "\n",
       "  .colab-df-quickchart-complete:disabled,\n",
       "  .colab-df-quickchart-complete:disabled:hover {\n",
       "    background-color: var(--disabled-bg-color);\n",
       "    fill: var(--disabled-fill-color);\n",
       "    box-shadow: none;\n",
       "  }\n",
       "\n",
       "  .colab-df-spinner {\n",
       "    border: 2px solid var(--fill-color);\n",
       "    border-color: transparent;\n",
       "    border-bottom-color: var(--fill-color);\n",
       "    animation:\n",
       "      spin 1s steps(1) infinite;\n",
       "  }\n",
       "\n",
       "  @keyframes spin {\n",
       "    0% {\n",
       "      border-color: transparent;\n",
       "      border-bottom-color: var(--fill-color);\n",
       "      border-left-color: var(--fill-color);\n",
       "    }\n",
       "    20% {\n",
       "      border-color: transparent;\n",
       "      border-left-color: var(--fill-color);\n",
       "      border-top-color: var(--fill-color);\n",
       "    }\n",
       "    30% {\n",
       "      border-color: transparent;\n",
       "      border-left-color: var(--fill-color);\n",
       "      border-top-color: var(--fill-color);\n",
       "      border-right-color: var(--fill-color);\n",
       "    }\n",
       "    40% {\n",
       "      border-color: transparent;\n",
       "      border-right-color: var(--fill-color);\n",
       "      border-top-color: var(--fill-color);\n",
       "    }\n",
       "    60% {\n",
       "      border-color: transparent;\n",
       "      border-right-color: var(--fill-color);\n",
       "    }\n",
       "    80% {\n",
       "      border-color: transparent;\n",
       "      border-right-color: var(--fill-color);\n",
       "      border-bottom-color: var(--fill-color);\n",
       "    }\n",
       "    90% {\n",
       "      border-color: transparent;\n",
       "      border-bottom-color: var(--fill-color);\n",
       "    }\n",
       "  }\n",
       "</style>\n",
       "\n",
       "  <script>\n",
       "    async function quickchart(key) {\n",
       "      const quickchartButtonEl =\n",
       "        document.querySelector('#' + key + ' button');\n",
       "      quickchartButtonEl.disabled = true;  // To prevent multiple clicks.\n",
       "      quickchartButtonEl.classList.add('colab-df-spinner');\n",
       "      try {\n",
       "        const charts = await google.colab.kernel.invokeFunction(\n",
       "            'suggestCharts', [key], {});\n",
       "      } catch (error) {\n",
       "        console.error('Error during call to suggestCharts:', error);\n",
       "      }\n",
       "      quickchartButtonEl.classList.remove('colab-df-spinner');\n",
       "      quickchartButtonEl.classList.add('colab-df-quickchart-complete');\n",
       "    }\n",
       "    (() => {\n",
       "      let quickchartButtonEl =\n",
       "        document.querySelector('#df-e80fe86b-5e04-4acd-ac1f-65d4449e1a35 button');\n",
       "      quickchartButtonEl.style.display =\n",
       "        google.colab.kernel.accessAllowed ? 'block' : 'none';\n",
       "    })();\n",
       "  </script>\n",
       "</div>\n",
       "\n",
       "    </div>\n",
       "  </div>\n"
      ],
      "text/plain": [
       "       pmid                                              title  \\\n",
       "0   9748443  Effect of slow growth on metabolism of Escheri...   \n",
       "1  10675895  On the optimization of classes for the assignm...   \n",
       "2  10731098  Assessing the effect of reactive oxygen specie...   \n",
       "3  10797602  Current awareness on comparative and functiona...   \n",
       "4  10894722  Global adaptations resulting from high populat...   \n",
       "\n",
       "                                            abstract language  \\\n",
       "0  Escherichia coli growing on glucose in minimal...      eng   \n",
       "1  At present, the assignment of function to nove...      eng   \n",
       "2  A two-dimensional thin-layer chromatographic a...      eng   \n",
       "3  In order to keep subscribers up-to-date with t...      eng   \n",
       "4  The scope of population density effects was in...      eng   \n",
       "\n",
       "                                       journal_title  pub_year  \\\n",
       "0                            Journal of bacteriology    1998.0   \n",
       "1                            Trends in biotechnology    2000.0   \n",
       "2  Redox report : communications in free radical ...    1999.0   \n",
       "3                        Yeast (Chichester, England)    2000.0   \n",
       "4                            Journal of bacteriology    2000.0   \n",
       "\n",
       "                                   authors predicted_category  \\\n",
       "0  Tweeddale H, Notley-McRobb L, Ferenci T       Microbiology   \n",
       "1                         Kell DB, King RD          unlabeled   \n",
       "2  Tweeddale H, Notley-McRobb L, Ferenci T          unlabeled   \n",
       "3                                      NaN       Microbiology   \n",
       "4                   Liu X, Ng C, Ferenci T       Microbiology   \n",
       "\n",
       "                                     full_embeddings  umap_2D_x  umap_2D_y  \\\n",
       "0  [[0.04921199, 0.1013429, 0.009529841, -0.08067...   7.770308   7.748135   \n",
       "1  [[0.074717656, 0.12005615, 0.023376802, 0.0167...   3.692910   6.724228   \n",
       "2  [[-0.009071778, 0.013007838, -0.0069063944, -0...   8.485703   8.156181   \n",
       "3  [[-0.07259704, 0.09568493, -0.023760073, -0.06...   3.549895   5.858758   \n",
       "4  [[0.05038802, 0.1111884, -0.044020668, -0.1404...   7.744527   7.660304   \n",
       "\n",
       "   umap_3D_x  umap_3D_y  umap_3D_z  tsne_2D_x  tsne_2D_y  \n",
       "0   8.087116   7.735348   6.041772 -18.861538  25.245789  \n",
       "1   4.727096   6.715599   7.221296  45.593254  63.230408  \n",
       "2   8.033753   7.959665   5.779803 -18.892046  25.188398  \n",
       "3   4.250017   5.822019   7.294538  56.503429  61.751530  \n",
       "4   8.108534   7.661770   6.145030 -18.486111  25.036968  "
      ]
     },
     "execution_count": 8,
     "metadata": {},
     "output_type": "execute_result"
    }
   ],
   "source": [
    "df.head()"
   ]
  },
  {
   "cell_type": "markdown",
   "metadata": {
    "id": "JjLc3vSILoQz",
    "jp-MarkdownHeadingCollapsed": true,
    "tags": []
   },
   "source": [
    "## kNN Accuracy"
   ]
  },
  {
   "cell_type": "code",
   "execution_count": null,
   "metadata": {
    "id": "HAJVy2K6Ln4h"
   },
   "outputs": [],
   "source": [
    "import numpy as np\n",
    "from sklearn.model_selection import train_test_split\n",
    "from sklearn.neighbors import KNeighborsClassifier\n",
    "\n",
    "def knn_accuracy(embedding_x, embedding_y, labels, test_size=0.01, random_state=42, n_neighbors=10):\n",
    "    \"\"\"\n",
    "    Trains and evaluates a k-NN classifier on 2D embeddings.\n",
    "\n",
    "    Parameters:\n",
    "        embedding_x (array-like): The x-coordinates of the 2D embedding.\n",
    "        embedding_y (array-like): The y-coordinates of the 2D embedding.\n",
    "        labels (array-like): The target labels corresponding to each coordinate pair.\n",
    "        test_size (float): Proportion of the dataset to include in the test split. Default is 0.01.\n",
    "        random_state (int): Seed for random number generation to ensure reproducibility. Default is 42.\n",
    "        n_neighbors (int): Number of neighbors to use for the k-NN classifier. Default is 10.\n",
    "\n",
    "    Returns:\n",
    "        float: The accuracy of the classifier on the test set.\n",
    "    \"\"\"\n",
    "    # Combine the two dimensions into a single 2D array (each row is a [x, y] pair)\n",
    "    embeddings_2d = np.column_stack((embedding_x, embedding_y))\n",
    "\n",
    "    # Split the embeddings and labels into training and test sets\n",
    "    X_train, X_test, y_train, y_test = train_test_split(\n",
    "        embeddings_2d, labels, test_size=test_size, random_state=random_state\n",
    "    )\n",
    "\n",
    "    # Create and train the k-NN classifier\n",
    "    knn = KNeighborsClassifier(n_neighbors=n_neighbors, algorithm='brute', n_jobs=-1)\n",
    "    knn.fit(X_train, y_train)\n",
    "\n",
    "    # Evaluate the classifier on the test set\n",
    "    accuracy = knn.score(X_test, y_test)\n",
    "\n",
    "    print(f'Accuracy on 2D embeddings: {accuracy:.2f}')\n",
    "    return accuracy"
   ]
  },
  {
   "cell_type": "markdown",
   "metadata": {
    "id": "ORwLTiMKN1cp",
    "jp-MarkdownHeadingCollapsed": true,
    "tags": []
   },
   "source": [
    "### tSNE _vs._ UMAP"
   ]
  },
  {
   "cell_type": "code",
   "execution_count": null,
   "metadata": {
    "colab": {
     "base_uri": "https://localhost:8080/"
    },
    "executionInfo": {
     "elapsed": 1330,
     "status": "ok",
     "timestamp": 1738593288503,
     "user": {
      "displayName": "Olatomiwa Bifarin",
      "userId": "06174025613084979381"
     },
     "user_tz": 300
    },
    "id": "vyxF8Ax8Lvp2",
    "outputId": "ff4db5f9-e5d9-48ad-da1e-d60749ffc7b4"
   },
   "outputs": [
    {
     "name": "stdout",
     "output_type": "stream",
     "text": [
      "Accuracy on 2D embeddings: 0.56\n",
      "Accuracy on 2D embeddings: 0.54\n"
     ]
    }
   ],
   "source": [
    "# for tsne\n",
    "tse_knn_acc = knn_accuracy(df['tsne_2D_x'], df['tsne_2D_y'], df['predicted_category']);\n",
    "umap_knn_acc = knn_accuracy(df['umap_2D_x'], df['umap_2D_y'], df['predicted_category']);"
   ]
  },
  {
   "cell_type": "code",
   "execution_count": null,
   "metadata": {
    "colab": {
     "base_uri": "https://localhost:8080/"
    },
    "executionInfo": {
     "elapsed": 366,
     "status": "ok",
     "timestamp": 1738593297675,
     "user": {
      "displayName": "Olatomiwa Bifarin",
      "userId": "06174025613084979381"
     },
     "user_tz": 300
    },
    "id": "X5UITnLFLvm4",
    "outputId": "bfd0cfb3-f8f0-4e1b-ee1e-8465d27057c5"
   },
   "outputs": [
    {
     "name": "stdout",
     "output_type": "stream",
     "text": [
      "tSNE kNN Accuracy: 0.56\n",
      "UMAP kNN Accuracy: 0.54\n"
     ]
    }
   ],
   "source": [
    "print(f'tSNE kNN Accuracy: {tse_knn_acc:.2f}')\n",
    "print(f'UMAP kNN Accuracy: {umap_knn_acc:.2f}')"
   ]
  },
  {
   "cell_type": "markdown",
   "metadata": {
    "id": "YC4YzoiWPP6g",
    "jp-MarkdownHeadingCollapsed": true,
    "tags": []
   },
   "source": [
    "## kNN Recall"
   ]
  },
  {
   "cell_type": "code",
   "execution_count": null,
   "metadata": {
    "id": "8YzCGAi-OU_A"
   },
   "outputs": [],
   "source": [
    "import numpy as np\n",
    "from sklearn.neighbors import NearestNeighbors\n",
    "\n",
    "def calculate_knn_recall(X_original, X_reduced, k=10, metric='euclidean'):\n",
    "    \"\"\"\n",
    "    Calculates the k-Nearest Neighbors (kNN) recall between original high-dimensional\n",
    "    embeddings and reduced 2D embeddings.\n",
    "\n",
    "    Parameters:\n",
    "    -----------\n",
    "    X_original : array-like\n",
    "        Original high-dimensional embeddings. This can be a list of arrays/lists or a\n",
    "        2D numpy array of shape (n_samples, n_features). If it is a list of arrays/lists,\n",
    "        they will be vertically stacked.\n",
    "\n",
    "    X_reduced : array-like\n",
    "        Reduced embeddings (e.g., 2D UMAP or t-SNE embeddings) as a 2D array of shape\n",
    "        (n_samples, 2).\n",
    "\n",
    "    k : int, optional (default=10)\n",
    "        Number of nearest neighbors to consider.\n",
    "\n",
    "    metric : str, optional (default='euclidean')\n",
    "        The distance metric to use when computing nearest neighbors.\n",
    "\n",
    "    Returns:\n",
    "    --------\n",
    "    knn_recall : float\n",
    "        The kNN recall, which is the proportion of common neighbors between the original\n",
    "        and reduced spaces.\n",
    "    \"\"\"\n",
    "    # Convert X_original to a numpy array and stack if necessary\n",
    "    X_original = np.array(X_original)\n",
    "    # If each element is itself a list/array, stack them vertically to create a 2D array.\n",
    "    if X_original.ndim == 1 or (X_original.ndim == 2 and isinstance(X_original[0], (list, np.ndarray))):\n",
    "        X_original = np.vstack(X_original)\n",
    "\n",
    "    # Ensure X_reduced is a numpy array\n",
    "    X_reduced = np.array(X_reduced)\n",
    "\n",
    "    # Compute k nearest neighbors in the original high-dimensional space\n",
    "    nn_original = NearestNeighbors(n_neighbors=k, metric=metric)\n",
    "    nn_original.fit(X_original)\n",
    "    original_distances, original_indices = nn_original.kneighbors(X_original)\n",
    "\n",
    "    # Compute k nearest neighbors in the reduced 2D space\n",
    "    nn_reduced = NearestNeighbors(n_neighbors=k, metric=metric)\n",
    "    nn_reduced.fit(X_reduced)\n",
    "    reduced_distances, reduced_indices = nn_reduced.kneighbors(X_reduced)\n",
    "\n",
    "    # Calculate the total count of common neighbors over all samples\n",
    "    common_neighbors_count = 0\n",
    "    n_samples = X_original.shape[0]\n",
    "    for i in range(n_samples):\n",
    "        original_neighbors = set(original_indices[i])\n",
    "        reduced_neighbors = set(reduced_indices[i])\n",
    "        common_neighbors_count += len(original_neighbors.intersection(reduced_neighbors))\n",
    "\n",
    "    # Compute the kNN recall as the proportion of common neighbors\n",
    "    knn_recall = common_neighbors_count / (n_samples * k)\n",
    "\n",
    "    print(f\"kNN Recall: {knn_recall:.4f}\")\n",
    "    return knn_recall"
   ]
  },
  {
   "cell_type": "code",
   "execution_count": null,
   "metadata": {
    "id": "PSFCK2NPSsJZ"
   },
   "outputs": [],
   "source": [
    "import numpy as np\n",
    "from sklearn.neighbors import NearestNeighbors\n",
    "\n",
    "def calculate_knn_recall(X_original, X_reduced, k=10, metric='euclidean'):\n",
    "    \"\"\"\n",
    "    Calculates the k-Nearest Neighbors (kNN) recall between original high-dimensional\n",
    "    embeddings and reduced 2D embeddings.\n",
    "\n",
    "    Parameters:\n",
    "    -----------\n",
    "    X_original : array-like\n",
    "        Original high-dimensional embeddings. This can be a list of arrays/lists or a\n",
    "        2D numpy array of shape (n_samples, n_features). If it is a list of arrays/lists,\n",
    "        they will be vertically stacked.\n",
    "\n",
    "    X_reduced : array-like\n",
    "        Reduced embeddings (e.g., 2D UMAP or t-SNE embeddings) as a 2D array of shape\n",
    "        (n_samples, 2).\n",
    "\n",
    "    k : int, optional (default=10)\n",
    "        Number of nearest neighbors to consider.\n",
    "\n",
    "    metric : str, optional (default='euclidean')\n",
    "        The distance metric to use when computing nearest neighbors.\n",
    "\n",
    "    Returns:\n",
    "    --------\n",
    "    knn_recall : float\n",
    "        The kNN recall, which is the proportion of common neighbors between the original\n",
    "        and reduced spaces.\n",
    "    \"\"\"\n",
    "    # Convert X_original to a numpy array and stack if necessary\n",
    "    X_original = np.array(X_original)\n",
    "\n",
    "    # Reshape X_original to 2D if necessary\n",
    "    if X_original.ndim == 3: #Check if the array is 3D\n",
    "        X_original = X_original.reshape(X_original.shape[0], -1)  # Reshape to 2D\n",
    "\n",
    "    # If each element is itself a list/array, stack them vertically to create a 2D array.\n",
    "    if X_original.ndim == 1 or (X_original.ndim == 2 and isinstance(X_original[0], (list, np.ndarray))):\n",
    "        X_original = np.vstack(X_original)\n",
    "\n",
    "    # Ensure X_reduced is a numpy array\n",
    "    X_reduced = np.array(X_reduced)\n",
    "\n",
    "    # Compute k nearest neighbors in the original high-dimensional space\n",
    "    nn_original = NearestNeighbors(n_neighbors=k, metric=metric)\n",
    "    nn_original.fit(X_original)\n",
    "    original_distances, original_indices = nn_original.kneighbors(X_original)\n",
    "\n",
    "    # Compute k nearest neighbors in the reduced 2D space\n",
    "    nn_reduced = NearestNeighbors(n_neighbors=k, metric=metric)\n",
    "    nn_reduced.fit(X_reduced)\n",
    "    reduced_distances, reduced_indices = nn_reduced.kneighbors(X_reduced)\n",
    "\n",
    "    # Calculate the total count of common neighbors over all samples\n",
    "    common_neighbors_count = 0\n",
    "    n_samples = X_original.shape[0]\n",
    "    for i in range(n_samples):\n",
    "        original_neighbors = set(original_indices[i])\n",
    "        reduced_neighbors = set(reduced_indices[i])\n",
    "        common_neighbors_count += len(original_neighbors.intersection(reduced_neighbors))\n",
    "\n",
    "    # Compute the kNN recall as the proportion of common neighbors\n",
    "    knn_recall = common_neighbors_count / (n_samples * k)\n",
    "\n",
    "    print(f\"kNN Recall: {knn_recall:.4f}\")\n",
    "    return knn_recall"
   ]
  },
  {
   "cell_type": "markdown",
   "metadata": {
    "id": "4T3K6UqoVqET"
   },
   "source": [
    "### tSNE _vs._ UMAP"
   ]
  },
  {
   "cell_type": "code",
   "execution_count": null,
   "metadata": {
    "colab": {
     "base_uri": "https://localhost:8080/"
    },
    "executionInfo": {
     "elapsed": 710025,
     "status": "ok",
     "timestamp": 1738594957244,
     "user": {
      "displayName": "Olatomiwa Bifarin",
      "userId": "06174025613084979381"
     },
     "user_tz": 300
    },
    "id": "1ZA_bhYaOU8j",
    "outputId": "af6a26d6-f50b-4105-b466-a3a0dece9ff4"
   },
   "outputs": [
    {
     "name": "stdout",
     "output_type": "stream",
     "text": [
      "kNN Recall: 0.3303\n",
      "kNN Recall: 0.1389\n"
     ]
    }
   ],
   "source": [
    "X_original = df['full_embeddings'].tolist()  # This can be a list of lists/arrays\n",
    "X_reduced_tsne = df[['tsne_2D_x', 'tsne_2D_y']].values\n",
    "X_reduced_umap = df[['umap_2D_x', 'umap_2D_y']].values\n",
    "\n",
    "# Calculate kNN recall:\n",
    "tsne_recall = calculate_knn_recall(X_original, X_reduced_tsne, k=10)\n",
    "umap_recall = calculate_knn_recall(X_original, X_reduced_umap, k=10)"
   ]
  },
  {
   "cell_type": "code",
   "execution_count": null,
   "metadata": {
    "colab": {
     "base_uri": "https://localhost:8080/"
    },
    "executionInfo": {
     "elapsed": 355,
     "status": "ok",
     "timestamp": 1738594984023,
     "user": {
      "displayName": "Olatomiwa Bifarin",
      "userId": "06174025613084979381"
     },
     "user_tz": 300
    },
    "id": "bPZXEIokOU5x",
    "outputId": "67ae4084-9772-420c-a1d4-b1163bc71f08"
   },
   "outputs": [
    {
     "name": "stdout",
     "output_type": "stream",
     "text": [
      "tSNE kNN Recall: 0.3303\n",
      "UMAP kNN Recall: 0.1389\n"
     ]
    }
   ],
   "source": [
    "print(f'tSNE kNN Recall: {tsne_recall:.4f}')\n",
    "print(f'UMAP kNN Recall: {umap_recall:.4f}')"
   ]
  },
  {
   "cell_type": "code",
   "execution_count": null,
   "metadata": {
    "id": "zwUqMh1MSR2k"
   },
   "outputs": [],
   "source": []
  },
  {
   "cell_type": "code",
   "execution_count": null,
   "metadata": {
    "id": "YHaEScFjSR0d"
   },
   "outputs": [],
   "source": []
  }
 ],
 "metadata": {
  "accelerator": "GPU",
  "colab": {
   "collapsed_sections": [
    "sMpr0bKCNJCr",
    "vBvdlsVqwe9F",
    "GHdGwnZ5PLnI",
    "NqLpJn395RFI",
    "aMnib9aSKzOw",
    "UwCyvni92SKx",
    "Ycpc01ZHerxR",
    "9Bpad83GT7Po",
    "9N9GySwcUIdt",
    "2ornC_ViUOrG"
   ],
   "gpuType": "T4",
   "machine_shape": "hm",
   "provenance": []
  },
  "kernelspec": {
   "display_name": "Python 3",
   "language": "python",
   "name": "python3"
  },
  "language_info": {
   "codemirror_mode": {
    "name": "ipython",
    "version": 3
   },
   "file_extension": ".py",
   "mimetype": "text/x-python",
   "name": "python",
   "nbconvert_exporter": "python",
   "pygments_lexer": "ipython3",
   "version": "3.8.8"
  }
 },
 "nbformat": 4,
 "nbformat_minor": 4
}
