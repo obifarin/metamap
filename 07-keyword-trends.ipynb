{
 "cells": [
  {
   "cell_type": "markdown",
   "metadata": {
    "id": "abXH1EWELa8o"
   },
   "source": [
    "# Scientific Keyword Trends"
   ]
  },
  {
   "cell_type": "markdown",
   "metadata": {
    "id": "Z79nUB8WE9Wc"
   },
   "source": [
    "Contains detailed analysis of some scientific keyword trends relating to disease and data analysis."
   ]
  },
  {
   "cell_type": "markdown",
   "metadata": {
    "id": "dvduAcVTLtgY"
   },
   "source": [
    "## ✋Set Up"
   ]
  },
  {
   "cell_type": "markdown",
   "metadata": {
    "id": "bMLNM2O_NCcO",
    "jp-MarkdownHeadingCollapsed": true,
    "tags": []
   },
   "source": [
    "### Install libraries"
   ]
  },
  {
   "cell_type": "code",
   "execution_count": null,
   "metadata": {
    "colab": {
     "base_uri": "https://localhost:8080/"
    },
    "executionInfo": {
     "elapsed": 46294,
     "status": "ok",
     "timestamp": 1738072602065,
     "user": {
      "displayName": "Olatomiwa Bifarin",
      "userId": "06174025613084979381"
     },
     "user_tz": 300
    },
    "id": "_1G7bXaspQRh",
    "outputId": "3128a410-782c-471e-f7ec-df151fe48108"
   },
   "outputs": [
    {
     "name": "stdout",
     "output_type": "stream",
     "text": [
      "\u001b[2K   \u001b[90m━━━━━━━━━━━━━━━━━━━━━━━━━━━━━━━━━━━━━━━━\u001b[0m \u001b[32m18.2/18.2 MB\u001b[0m \u001b[31m59.4 MB/s\u001b[0m eta \u001b[36m0:00:00\u001b[0m\n",
      "\u001b[2K   \u001b[90m━━━━━━━━━━━━━━━━━━━━━━━━━━━━━━━━━━━━━━━━\u001b[0m \u001b[32m12.0/12.0 MB\u001b[0m \u001b[31m75.1 MB/s\u001b[0m eta \u001b[36m0:00:00\u001b[0m\n",
      "\u001b[2K   \u001b[90m━━━━━━━━━━━━━━━━━━━━━━━━━━━━━━━━━━━━━━━━\u001b[0m \u001b[32m15.5/15.5 MB\u001b[0m \u001b[31m68.4 MB/s\u001b[0m eta \u001b[36m0:00:00\u001b[0m\n",
      "\u001b[2K   \u001b[90m━━━━━━━━━━━━━━━━━━━━━━━━━━━━━━━━━━━━━━━━\u001b[0m \u001b[32m79.9/79.9 MB\u001b[0m \u001b[31m9.0 MB/s\u001b[0m eta \u001b[36m0:00:00\u001b[0m\n",
      "\u001b[?25h\u001b[31mERROR: pip's dependency resolver does not currently take into account all the packages that are installed. This behaviour is the source of the following dependency conflicts.\n",
      "google-colab 1.0.0 requires pandas==2.2.2, but you have pandas 1.5.3 which is incompatible.\n",
      "mizani 0.13.1 requires pandas>=2.2.0, but you have pandas 1.5.3 which is incompatible.\n",
      "plotnine 0.14.5 requires pandas>=2.2.0, but you have pandas 1.5.3 which is incompatible.\n",
      "cudf-cu12 24.10.1 requires pandas<2.2.3dev0,>=2.0, but you have pandas 1.5.3 which is incompatible.\n",
      "xarray 2025.1.1 requires pandas>=2.1, but you have pandas 1.5.3 which is incompatible.\u001b[0m\u001b[31m\n",
      "\u001b[0m"
     ]
    }
   ],
   "source": [
    "# Install for settings.\n",
    "!pip install --quiet numpy==1.25.2 pandas==1.5.3 plotly==5.15.0 kaleido==0.2.1"
   ]
  },
  {
   "cell_type": "code",
   "execution_count": null,
   "metadata": {
    "id": "I7eIusVQ-dQj"
   },
   "outputs": [],
   "source": [
    "import pandas as pd\n",
    "import numpy as np\n",
    "\n",
    "import plotly.express as px\n",
    "import plotly.io as pio\n",
    "import plotly.graph_objs as go\n",
    "from plotly.subplots import make_subplots\n",
    "\n",
    "import kaleido\n",
    "import re  # Regular expression library\n",
    "\n",
    "import warnings\n",
    "warnings.filterwarnings;"
   ]
  },
  {
   "cell_type": "markdown",
   "metadata": {
    "id": "q3V4lhBQMOZE",
    "jp-MarkdownHeadingCollapsed": true,
    "tags": []
   },
   "source": [
    "## Load Data"
   ]
  },
  {
   "cell_type": "markdown",
   "metadata": {
    "id": "VQ54sZqRNwUc"
   },
   "source": [
    "Import datasets, that contains full embeddings and reduced embeddings."
   ]
  },
  {
   "cell_type": "code",
   "execution_count": null,
   "metadata": {
    "id": "Kh8LOiENNLFV"
   },
   "outputs": [],
   "source": [
    "df = pd.read_hdf('Files/embeddings_full_tSNE_uMAP_01MAR2024.h5', key='embeddings')"
   ]
  },
  {
   "cell_type": "code",
   "execution_count": null,
   "metadata": {
    "colab": {
     "base_uri": "https://localhost:8080/",
     "height": 372
    },
    "executionInfo": {
     "elapsed": 1462,
     "status": "ok",
     "timestamp": 1738072750797,
     "user": {
      "displayName": "Olatomiwa Bifarin",
      "userId": "06174025613084979381"
     },
     "user_tz": 300
    },
    "id": "vOs_3EiaNLCv",
    "outputId": "8abf0466-4fa4-4bfc-edf4-628cce46e99f"
   },
   "outputs": [
    {
     "data": {
      "application/vnd.google.colaboratory.intrinsic+json": {
       "summary": "{\n  \"name\": \"df\",\n  \"rows\": 80656,\n  \"fields\": [\n    {\n      \"column\": \"pmid\",\n      \"properties\": {\n        \"dtype\": \"number\",\n        \"std\": 5237503,\n        \"min\": 9748443,\n        \"max\": 38377545,\n        \"num_unique_values\": 80656,\n        \"samples\": [\n          33463536,\n          31434796,\n          36445079\n        ],\n        \"semantic_type\": \"\",\n        \"description\": \"\"\n      }\n    },\n    {\n      \"column\": \"title\",\n      \"properties\": {\n        \"dtype\": \"string\",\n        \"num_unique_values\": 80599,\n        \"samples\": [\n          \"Responsive MRI agents for sensing metabolism in vivo.\",\n          \"Metabolomics and Machine Learning Identify Metabolic Differences and Potential Biomarkers for Frequent Versus Infrequent Gout Flares.\",\n          \"Postprandial NMR-Based Metabolic Exchanges Reflect Impaired Phenotypic Flexibility across Splanchnic Organs in the Obese Yucatan Mini-Pig.\"\n        ],\n        \"semantic_type\": \"\",\n        \"description\": \"\"\n      }\n    },\n    {\n      \"column\": \"abstract\",\n      \"properties\": {\n        \"dtype\": \"string\",\n        \"num_unique_values\": 80583,\n        \"samples\": [\n          \"Drought is a misfortune for agriculture and human beings. The annual crop yield reduction caused by drought exceeds the sum of all pathogens. As one of the gatekeepers of China's \\\"granary\\\", rice is the most important to reveal the key drought tolerance factors in rice. Rice seedlings of Nipponbare (Oryza sativa L. ssp. Japonica) were subjected to simulated drought stress, and their root systems were analyzed for the non-targeted metabolome and strand-specific transcriptome. We found that both DEGs and metabolites were enriched in purine metabolism, and allantoin accumulated significantly in roots under drought stress. However, few studies on drought tolerance of exogenous allantoin in rice have been reported. We aimed to further determine whether allantoin can improve the drought tolerance of rice. Under the treatment of exogenous allantoin at different concentrations, the drought resistant metabolites of plants accumulated significantly, including proline and soluble sugar, and reactive oxygen species (ROS) decreased and reached a significant level in 100 \\u03bcmol L[-1]. To this end, a follow-up study was identified in 100 \\u03bcmol L[-1] exogenous allantoin and found that exogenous allantoin improved the drought resistance of rice. At the gene level, under allantoin drought treatment, we found that genes of scavenge reactive oxygen species were significantly expressed, including peroxidase (POD), catalase (CATA), ascorbate peroxidase 8 (APX8) and respiratory burst oxidase homolog protein F (RbohF). This indicates that plants treated by allantoin have better ability to scavenge reactive oxygen species to resist drought. Alternative splicing analysis revealed a total of 427 differentially expressed alternative splicing events across 320 genes. The analysis of splicing factors showed that gene alternative splicing could be divided into many different subgroups and play a regulatory role in many aspects. Through further analysis, we restated the key genes and enzymes in the allantoin synthesis and catabolism pathway, and found that the expression of synthetase and hydrolase showed a downward trend. The pathway of uric acid to allantoin is completed by uric acid oxidase (UOX). To find out the key transcription factors that regulate the expression of this gene, we identified two highly related transcription factors OsERF059 and ONAC007 through correlation analysis. They may be the key for allantoin to enhance the drought resistance of rice.\",\n          \"The study aim was to evaluate the effects of public lockdown during the covid-19 pandemic on glucose and metabolic parameters as well as body weight control in type 2 diabetic patients.\",\n          \"1. Geniposide (genipin 1-O-glucose), one of the major bioactive constituents isolated from Fructus Gardeniae, possesses many biological activities. In this study, an efficient strategy was developed using ultra-high-performance liquid chromatography coupled with linear ion trap-Orbitrap mass spectrometer (UPLC-LTQ-Orbitrap) to profile the in vitro and in vivo metabolic patterns of geniposide in rat liver microsomes (RLMs), plasma, urine, and various tissues. And post-acquisition data-mining methods including extracted ion chromatogram (EIC), multiple mass defect filters (MMDF), fragment ion searching (FISh), and isotope pattern filtering (IPF) were adopted to characterize the known and unknown metabolites. 2. A total of 33 metabolites were detected and interpreted according to accurate mass measurement, diagnostic fragment ions, relevant drug biotransformation knowledge, and bibliography data. Among them, 17 metabolites were detected in the plasma, 31 metabolites were identified in the urine, six metabolites could be found in rat heart, 12 in liver, three in spleen, six in lung, 12 in kidney, six in brain, and four in RLMs. 3. A series of corresponding reactions such as hydrolysis, hydroxylation, taurine conjugation, hydrogenation, decarboxylation, demethylation, sulfate conjugation, cysteine S-conjugation, glucosylation, and their composite reactions were all discovered. 4. The results could provide comprehensive insights and guidance for elucidation of side effect mechanism and safety monitoring as well as for rational formulation design in drug delivery system. The newly discovered geniposide metabolites could be targets for future metabolism studies on the important chemical constituents from herbal medicines.\"\n        ],\n        \"semantic_type\": \"\",\n        \"description\": \"\"\n      }\n    },\n    {\n      \"column\": \"language\",\n      \"properties\": {\n        \"dtype\": \"category\",\n        \"num_unique_values\": 17,\n        \"samples\": [\n          \"eng\",\n          \"jpn\",\n          \"ita\"\n        ],\n        \"semantic_type\": \"\",\n        \"description\": \"\"\n      }\n    },\n    {\n      \"column\": \"journal_title\",\n      \"properties\": {\n        \"dtype\": \"category\",\n        \"num_unique_values\": 4076,\n        \"samples\": [\n          \"Biopreservation and biobanking\",\n          \"Horticulture research\",\n          \"IET systems biology\"\n        ],\n        \"semantic_type\": \"\",\n        \"description\": \"\"\n      }\n    },\n    {\n      \"column\": \"pub_year\",\n      \"properties\": {\n        \"dtype\": \"number\",\n        \"std\": 4.043198893232241,\n        \"min\": 1998.0,\n        \"max\": 2024.0,\n        \"num_unique_values\": 27,\n        \"samples\": [\n          2006.0,\n          2011.0,\n          2007.0\n        ],\n        \"semantic_type\": \"\",\n        \"description\": \"\"\n      }\n    },\n    {\n      \"column\": \"authors\",\n      \"properties\": {\n        \"dtype\": \"string\",\n        \"num_unique_values\": 79234,\n        \"samples\": [\n          \"Dona AC, Jim\\u00e9nez B, Sch\\u00e4fer H, Humpfer E, Spraul M, Lewis MR, Pearce JT, Holmes E, Lindon JC, Nicholson JK\",\n          \"Patel K, Lindsey J, Angelidou K, Aldrovandi G, Palumbo P\",\n          \"Meng X, Jayasundara N, Zhang J, Ren X, Gao B, Li J, Liu P\"\n        ],\n        \"semantic_type\": \"\",\n        \"description\": \"\"\n      }\n    },\n    {\n      \"column\": \"predicted_category\",\n      \"properties\": {\n        \"dtype\": \"category\",\n        \"num_unique_values\": 20,\n        \"samples\": [\n          \"Microbiology\",\n          \"Aging & Gerontology\",\n          \"Nephrology\"\n        ],\n        \"semantic_type\": \"\",\n        \"description\": \"\"\n      }\n    },\n    {\n      \"column\": \"full_embeddings\",\n      \"properties\": {\n        \"dtype\": \"object\",\n        \"semantic_type\": \"\",\n        \"description\": \"\"\n      }\n    },\n    {\n      \"column\": \"umap_2D_x\",\n      \"properties\": {\n        \"dtype\": \"float32\",\n        \"num_unique_values\": 80385,\n        \"samples\": [\n          4.936419486999512,\n          4.239068984985352,\n          10.19593620300293\n        ],\n        \"semantic_type\": \"\",\n        \"description\": \"\"\n      }\n    },\n    {\n      \"column\": \"umap_2D_y\",\n      \"properties\": {\n        \"dtype\": \"float32\",\n        \"num_unique_values\": 80482,\n        \"samples\": [\n          2.8839457035064697,\n          5.86353063583374,\n          8.207853317260742\n        ],\n        \"semantic_type\": \"\",\n        \"description\": \"\"\n      }\n    },\n    {\n      \"column\": \"umap_3D_x\",\n      \"properties\": {\n        \"dtype\": \"float32\",\n        \"num_unique_values\": 80309,\n        \"samples\": [\n          5.784459590911865,\n          4.330934524536133,\n          7.4578094482421875\n        ],\n        \"semantic_type\": \"\",\n        \"description\": \"\"\n      }\n    },\n    {\n      \"column\": \"umap_3D_y\",\n      \"properties\": {\n        \"dtype\": \"float32\",\n        \"num_unique_values\": 80424,\n        \"samples\": [\n          9.25174617767334,\n          5.252988815307617,\n          7.045469760894775\n        ],\n        \"semantic_type\": \"\",\n        \"description\": \"\"\n      }\n    },\n    {\n      \"column\": \"umap_3D_z\",\n      \"properties\": {\n        \"dtype\": \"float32\",\n        \"num_unique_values\": 80350,\n        \"samples\": [\n          3.744140863418579,\n          3.4196255207061768,\n          4.59562349319458\n        ],\n        \"semantic_type\": \"\",\n        \"description\": \"\"\n      }\n    },\n    {\n      \"column\": \"tsne_2D_x\",\n      \"properties\": {\n        \"dtype\": \"float32\",\n        \"num_unique_values\": 80533,\n        \"samples\": [\n          30.95949935913086,\n          -49.041751861572266,\n          -32.84935760498047\n        ],\n        \"semantic_type\": \"\",\n        \"description\": \"\"\n      }\n    },\n    {\n      \"column\": \"tsne_2D_y\",\n      \"properties\": {\n        \"dtype\": \"float32\",\n        \"num_unique_values\": 80529,\n        \"samples\": [\n          62.61643600463867,\n          -50.186248779296875,\n          71.58711242675781\n        ],\n        \"semantic_type\": \"\",\n        \"description\": \"\"\n      }\n    }\n  ]\n}",
       "type": "dataframe",
       "variable_name": "df"
      },
      "text/html": [
       "\n",
       "  <div id=\"df-2065b2e2-16b1-49d0-a3e3-02c8b254f844\" class=\"colab-df-container\">\n",
       "    <div>\n",
       "<style scoped>\n",
       "    .dataframe tbody tr th:only-of-type {\n",
       "        vertical-align: middle;\n",
       "    }\n",
       "\n",
       "    .dataframe tbody tr th {\n",
       "        vertical-align: top;\n",
       "    }\n",
       "\n",
       "    .dataframe thead th {\n",
       "        text-align: right;\n",
       "    }\n",
       "</style>\n",
       "<table border=\"1\" class=\"dataframe\">\n",
       "  <thead>\n",
       "    <tr style=\"text-align: right;\">\n",
       "      <th></th>\n",
       "      <th>pmid</th>\n",
       "      <th>title</th>\n",
       "      <th>abstract</th>\n",
       "      <th>language</th>\n",
       "      <th>journal_title</th>\n",
       "      <th>pub_year</th>\n",
       "      <th>authors</th>\n",
       "      <th>predicted_category</th>\n",
       "      <th>full_embeddings</th>\n",
       "      <th>umap_2D_x</th>\n",
       "      <th>umap_2D_y</th>\n",
       "      <th>umap_3D_x</th>\n",
       "      <th>umap_3D_y</th>\n",
       "      <th>umap_3D_z</th>\n",
       "      <th>tsne_2D_x</th>\n",
       "      <th>tsne_2D_y</th>\n",
       "    </tr>\n",
       "  </thead>\n",
       "  <tbody>\n",
       "    <tr>\n",
       "      <th>0</th>\n",
       "      <td>9748443</td>\n",
       "      <td>Effect of slow growth on metabolism of Escheri...</td>\n",
       "      <td>Escherichia coli growing on glucose in minimal...</td>\n",
       "      <td>eng</td>\n",
       "      <td>Journal of bacteriology</td>\n",
       "      <td>1998.0</td>\n",
       "      <td>Tweeddale H, Notley-McRobb L, Ferenci T</td>\n",
       "      <td>Microbiology</td>\n",
       "      <td>[[0.04921199, 0.1013429, 0.009529841, -0.08067...</td>\n",
       "      <td>7.770308</td>\n",
       "      <td>7.748135</td>\n",
       "      <td>8.087116</td>\n",
       "      <td>7.735348</td>\n",
       "      <td>6.041772</td>\n",
       "      <td>-18.861538</td>\n",
       "      <td>25.245789</td>\n",
       "    </tr>\n",
       "    <tr>\n",
       "      <th>1</th>\n",
       "      <td>10675895</td>\n",
       "      <td>On the optimization of classes for the assignm...</td>\n",
       "      <td>At present, the assignment of function to nove...</td>\n",
       "      <td>eng</td>\n",
       "      <td>Trends in biotechnology</td>\n",
       "      <td>2000.0</td>\n",
       "      <td>Kell DB, King RD</td>\n",
       "      <td>unlabeled</td>\n",
       "      <td>[[0.074717656, 0.12005615, 0.023376802, 0.0167...</td>\n",
       "      <td>3.692910</td>\n",
       "      <td>6.724228</td>\n",
       "      <td>4.727096</td>\n",
       "      <td>6.715599</td>\n",
       "      <td>7.221296</td>\n",
       "      <td>45.593254</td>\n",
       "      <td>63.230408</td>\n",
       "    </tr>\n",
       "    <tr>\n",
       "      <th>2</th>\n",
       "      <td>10731098</td>\n",
       "      <td>Assessing the effect of reactive oxygen specie...</td>\n",
       "      <td>A two-dimensional thin-layer chromatographic a...</td>\n",
       "      <td>eng</td>\n",
       "      <td>Redox report : communications in free radical ...</td>\n",
       "      <td>1999.0</td>\n",
       "      <td>Tweeddale H, Notley-McRobb L, Ferenci T</td>\n",
       "      <td>unlabeled</td>\n",
       "      <td>[[-0.009071778, 0.013007838, -0.0069063944, -0...</td>\n",
       "      <td>8.485703</td>\n",
       "      <td>8.156181</td>\n",
       "      <td>8.033753</td>\n",
       "      <td>7.959665</td>\n",
       "      <td>5.779803</td>\n",
       "      <td>-18.892046</td>\n",
       "      <td>25.188398</td>\n",
       "    </tr>\n",
       "  </tbody>\n",
       "</table>\n",
       "</div>\n",
       "    <div class=\"colab-df-buttons\">\n",
       "\n",
       "  <div class=\"colab-df-container\">\n",
       "    <button class=\"colab-df-convert\" onclick=\"convertToInteractive('df-2065b2e2-16b1-49d0-a3e3-02c8b254f844')\"\n",
       "            title=\"Convert this dataframe to an interactive table.\"\n",
       "            style=\"display:none;\">\n",
       "\n",
       "  <svg xmlns=\"http://www.w3.org/2000/svg\" height=\"24px\" viewBox=\"0 -960 960 960\">\n",
       "    <path d=\"M120-120v-720h720v720H120Zm60-500h600v-160H180v160Zm220 220h160v-160H400v160Zm0 220h160v-160H400v160ZM180-400h160v-160H180v160Zm440 0h160v-160H620v160ZM180-180h160v-160H180v160Zm440 0h160v-160H620v160Z\"/>\n",
       "  </svg>\n",
       "    </button>\n",
       "\n",
       "  <style>\n",
       "    .colab-df-container {\n",
       "      display:flex;\n",
       "      gap: 12px;\n",
       "    }\n",
       "\n",
       "    .colab-df-convert {\n",
       "      background-color: #E8F0FE;\n",
       "      border: none;\n",
       "      border-radius: 50%;\n",
       "      cursor: pointer;\n",
       "      display: none;\n",
       "      fill: #1967D2;\n",
       "      height: 32px;\n",
       "      padding: 0 0 0 0;\n",
       "      width: 32px;\n",
       "    }\n",
       "\n",
       "    .colab-df-convert:hover {\n",
       "      background-color: #E2EBFA;\n",
       "      box-shadow: 0px 1px 2px rgba(60, 64, 67, 0.3), 0px 1px 3px 1px rgba(60, 64, 67, 0.15);\n",
       "      fill: #174EA6;\n",
       "    }\n",
       "\n",
       "    .colab-df-buttons div {\n",
       "      margin-bottom: 4px;\n",
       "    }\n",
       "\n",
       "    [theme=dark] .colab-df-convert {\n",
       "      background-color: #3B4455;\n",
       "      fill: #D2E3FC;\n",
       "    }\n",
       "\n",
       "    [theme=dark] .colab-df-convert:hover {\n",
       "      background-color: #434B5C;\n",
       "      box-shadow: 0px 1px 3px 1px rgba(0, 0, 0, 0.15);\n",
       "      filter: drop-shadow(0px 1px 2px rgba(0, 0, 0, 0.3));\n",
       "      fill: #FFFFFF;\n",
       "    }\n",
       "  </style>\n",
       "\n",
       "    <script>\n",
       "      const buttonEl =\n",
       "        document.querySelector('#df-2065b2e2-16b1-49d0-a3e3-02c8b254f844 button.colab-df-convert');\n",
       "      buttonEl.style.display =\n",
       "        google.colab.kernel.accessAllowed ? 'block' : 'none';\n",
       "\n",
       "      async function convertToInteractive(key) {\n",
       "        const element = document.querySelector('#df-2065b2e2-16b1-49d0-a3e3-02c8b254f844');\n",
       "        const dataTable =\n",
       "          await google.colab.kernel.invokeFunction('convertToInteractive',\n",
       "                                                    [key], {});\n",
       "        if (!dataTable) return;\n",
       "\n",
       "        const docLinkHtml = 'Like what you see? Visit the ' +\n",
       "          '<a target=\"_blank\" href=https://colab.research.google.com/notebooks/data_table.ipynb>data table notebook</a>'\n",
       "          + ' to learn more about interactive tables.';\n",
       "        element.innerHTML = '';\n",
       "        dataTable['output_type'] = 'display_data';\n",
       "        await google.colab.output.renderOutput(dataTable, element);\n",
       "        const docLink = document.createElement('div');\n",
       "        docLink.innerHTML = docLinkHtml;\n",
       "        element.appendChild(docLink);\n",
       "      }\n",
       "    </script>\n",
       "  </div>\n",
       "\n",
       "\n",
       "<div id=\"df-aa26ed65-a6c8-4ec5-9898-936652c3be47\">\n",
       "  <button class=\"colab-df-quickchart\" onclick=\"quickchart('df-aa26ed65-a6c8-4ec5-9898-936652c3be47')\"\n",
       "            title=\"Suggest charts\"\n",
       "            style=\"display:none;\">\n",
       "\n",
       "<svg xmlns=\"http://www.w3.org/2000/svg\" height=\"24px\"viewBox=\"0 0 24 24\"\n",
       "     width=\"24px\">\n",
       "    <g>\n",
       "        <path d=\"M19 3H5c-1.1 0-2 .9-2 2v14c0 1.1.9 2 2 2h14c1.1 0 2-.9 2-2V5c0-1.1-.9-2-2-2zM9 17H7v-7h2v7zm4 0h-2V7h2v10zm4 0h-2v-4h2v4z\"/>\n",
       "    </g>\n",
       "</svg>\n",
       "  </button>\n",
       "\n",
       "<style>\n",
       "  .colab-df-quickchart {\n",
       "      --bg-color: #E8F0FE;\n",
       "      --fill-color: #1967D2;\n",
       "      --hover-bg-color: #E2EBFA;\n",
       "      --hover-fill-color: #174EA6;\n",
       "      --disabled-fill-color: #AAA;\n",
       "      --disabled-bg-color: #DDD;\n",
       "  }\n",
       "\n",
       "  [theme=dark] .colab-df-quickchart {\n",
       "      --bg-color: #3B4455;\n",
       "      --fill-color: #D2E3FC;\n",
       "      --hover-bg-color: #434B5C;\n",
       "      --hover-fill-color: #FFFFFF;\n",
       "      --disabled-bg-color: #3B4455;\n",
       "      --disabled-fill-color: #666;\n",
       "  }\n",
       "\n",
       "  .colab-df-quickchart {\n",
       "    background-color: var(--bg-color);\n",
       "    border: none;\n",
       "    border-radius: 50%;\n",
       "    cursor: pointer;\n",
       "    display: none;\n",
       "    fill: var(--fill-color);\n",
       "    height: 32px;\n",
       "    padding: 0;\n",
       "    width: 32px;\n",
       "  }\n",
       "\n",
       "  .colab-df-quickchart:hover {\n",
       "    background-color: var(--hover-bg-color);\n",
       "    box-shadow: 0 1px 2px rgba(60, 64, 67, 0.3), 0 1px 3px 1px rgba(60, 64, 67, 0.15);\n",
       "    fill: var(--button-hover-fill-color);\n",
       "  }\n",
       "\n",
       "  .colab-df-quickchart-complete:disabled,\n",
       "  .colab-df-quickchart-complete:disabled:hover {\n",
       "    background-color: var(--disabled-bg-color);\n",
       "    fill: var(--disabled-fill-color);\n",
       "    box-shadow: none;\n",
       "  }\n",
       "\n",
       "  .colab-df-spinner {\n",
       "    border: 2px solid var(--fill-color);\n",
       "    border-color: transparent;\n",
       "    border-bottom-color: var(--fill-color);\n",
       "    animation:\n",
       "      spin 1s steps(1) infinite;\n",
       "  }\n",
       "\n",
       "  @keyframes spin {\n",
       "    0% {\n",
       "      border-color: transparent;\n",
       "      border-bottom-color: var(--fill-color);\n",
       "      border-left-color: var(--fill-color);\n",
       "    }\n",
       "    20% {\n",
       "      border-color: transparent;\n",
       "      border-left-color: var(--fill-color);\n",
       "      border-top-color: var(--fill-color);\n",
       "    }\n",
       "    30% {\n",
       "      border-color: transparent;\n",
       "      border-left-color: var(--fill-color);\n",
       "      border-top-color: var(--fill-color);\n",
       "      border-right-color: var(--fill-color);\n",
       "    }\n",
       "    40% {\n",
       "      border-color: transparent;\n",
       "      border-right-color: var(--fill-color);\n",
       "      border-top-color: var(--fill-color);\n",
       "    }\n",
       "    60% {\n",
       "      border-color: transparent;\n",
       "      border-right-color: var(--fill-color);\n",
       "    }\n",
       "    80% {\n",
       "      border-color: transparent;\n",
       "      border-right-color: var(--fill-color);\n",
       "      border-bottom-color: var(--fill-color);\n",
       "    }\n",
       "    90% {\n",
       "      border-color: transparent;\n",
       "      border-bottom-color: var(--fill-color);\n",
       "    }\n",
       "  }\n",
       "</style>\n",
       "\n",
       "  <script>\n",
       "    async function quickchart(key) {\n",
       "      const quickchartButtonEl =\n",
       "        document.querySelector('#' + key + ' button');\n",
       "      quickchartButtonEl.disabled = true;  // To prevent multiple clicks.\n",
       "      quickchartButtonEl.classList.add('colab-df-spinner');\n",
       "      try {\n",
       "        const charts = await google.colab.kernel.invokeFunction(\n",
       "            'suggestCharts', [key], {});\n",
       "      } catch (error) {\n",
       "        console.error('Error during call to suggestCharts:', error);\n",
       "      }\n",
       "      quickchartButtonEl.classList.remove('colab-df-spinner');\n",
       "      quickchartButtonEl.classList.add('colab-df-quickchart-complete');\n",
       "    }\n",
       "    (() => {\n",
       "      let quickchartButtonEl =\n",
       "        document.querySelector('#df-aa26ed65-a6c8-4ec5-9898-936652c3be47 button');\n",
       "      quickchartButtonEl.style.display =\n",
       "        google.colab.kernel.accessAllowed ? 'block' : 'none';\n",
       "    })();\n",
       "  </script>\n",
       "</div>\n",
       "\n",
       "    </div>\n",
       "  </div>\n"
      ],
      "text/plain": [
       "       pmid                                              title  \\\n",
       "0   9748443  Effect of slow growth on metabolism of Escheri...   \n",
       "1  10675895  On the optimization of classes for the assignm...   \n",
       "2  10731098  Assessing the effect of reactive oxygen specie...   \n",
       "\n",
       "                                            abstract language  \\\n",
       "0  Escherichia coli growing on glucose in minimal...      eng   \n",
       "1  At present, the assignment of function to nove...      eng   \n",
       "2  A two-dimensional thin-layer chromatographic a...      eng   \n",
       "\n",
       "                                       journal_title  pub_year  \\\n",
       "0                            Journal of bacteriology    1998.0   \n",
       "1                            Trends in biotechnology    2000.0   \n",
       "2  Redox report : communications in free radical ...    1999.0   \n",
       "\n",
       "                                   authors predicted_category  \\\n",
       "0  Tweeddale H, Notley-McRobb L, Ferenci T       Microbiology   \n",
       "1                         Kell DB, King RD          unlabeled   \n",
       "2  Tweeddale H, Notley-McRobb L, Ferenci T          unlabeled   \n",
       "\n",
       "                                     full_embeddings  umap_2D_x  umap_2D_y  \\\n",
       "0  [[0.04921199, 0.1013429, 0.009529841, -0.08067...   7.770308   7.748135   \n",
       "1  [[0.074717656, 0.12005615, 0.023376802, 0.0167...   3.692910   6.724228   \n",
       "2  [[-0.009071778, 0.013007838, -0.0069063944, -0...   8.485703   8.156181   \n",
       "\n",
       "   umap_3D_x  umap_3D_y  umap_3D_z  tsne_2D_x  tsne_2D_y  \n",
       "0   8.087116   7.735348   6.041772 -18.861538  25.245789  \n",
       "1   4.727096   6.715599   7.221296  45.593254  63.230408  \n",
       "2   8.033753   7.959665   5.779803 -18.892046  25.188398  "
      ]
     },
     "execution_count": 8,
     "metadata": {},
     "output_type": "execute_result"
    }
   ],
   "source": [
    "df.head(3)"
   ]
  },
  {
   "cell_type": "markdown",
   "metadata": {
    "id": "gmhLT6-hcnzQ"
   },
   "source": [
    "## Keywords Highlights"
   ]
  },
  {
   "cell_type": "markdown",
   "metadata": {
    "id": "meqxw6-80Wnj",
    "jp-MarkdownHeadingCollapsed": true,
    "tags": []
   },
   "source": [
    "### Version 1 - Black and White\n",
    "go to the second version."
   ]
  },
  {
   "cell_type": "code",
   "execution_count": null,
   "metadata": {
    "id": "7a-nmZ8eMe6z"
   },
   "outputs": [],
   "source": [
    "import pandas as pd\n",
    "import plotly.graph_objects as go\n",
    "from plotly.subplots import make_subplots\n",
    "import numpy as np\n",
    "\n",
    "def plot_keyword_comparison(\n",
    "    df,\n",
    "    terms,\n",
    "    x_col='tsne_2D_x',\n",
    "    y_col='tsne_2D_y',\n",
    "    text_col='abstract',\n",
    "    n_cols=2,\n",
    "    marker_size=3,\n",
    "    fig_width=1500,\n",
    "    fig_height=600,\n",
    "    max_points=None\n",
    "):\n",
    "    \"\"\"\n",
    "    Plots multiple scatter subplots, each highlighting documents containing certain keywords.\n",
    "    Uses Scattergl for faster GPU rendering and allows optional downsampling.\n",
    "\n",
    "    Parameters\n",
    "    ----------\n",
    "    df : pd.DataFrame\n",
    "        The DataFrame containing embedding coordinates and text data.\n",
    "    terms : list of str\n",
    "        A list of keywords or regex patterns to highlight in the text_col.\n",
    "    x_col : str\n",
    "        Name of the DataFrame column representing x-coordinates (e.g., t-SNE or UMAP x).\n",
    "    y_col : str\n",
    "        Name of the DataFrame column representing y-coordinates (e.g., t-SNE or UMAP y).\n",
    "    text_col : str\n",
    "        Name of the DataFrame column that contains text (e.g., the abstract) to search.\n",
    "    n_cols : int\n",
    "        Number of columns in the subplot layout.\n",
    "    marker_size : int\n",
    "        Size of the markers in the scatter plot.\n",
    "    fig_width : int\n",
    "        Width of the resulting figure (in pixels).\n",
    "    fig_height : int\n",
    "        Height of the resulting figure (in pixels).\n",
    "    max_points : int, optional\n",
    "        If specified, randomly downsample the dataset to this many points to improve performance.\n",
    "\n",
    "    Returns\n",
    "    -------\n",
    "    fig : plotly.graph_objects.Figure\n",
    "        The constructed Plotly figure with subplots.\n",
    "    \"\"\"\n",
    "\n",
    "    # Ensure the text column is string type\n",
    "    df[text_col] = df[text_col].astype(str)\n",
    "\n",
    "    # Optional downsampling\n",
    "    if max_points is not None and len(df) > max_points:\n",
    "        df = df.sample(n=max_points, random_state=42).copy()\n",
    "\n",
    "    # Compute how many rows are needed\n",
    "    n_rows = (len(terms) - 1) // n_cols + 1\n",
    "\n",
    "    # Create the subplots\n",
    "    subplot_titles = [f'\"{term.replace(\"|\", \" or \")}\"' for term in terms]\n",
    "    fig = make_subplots(\n",
    "        rows=n_rows,\n",
    "        cols=n_cols,\n",
    "        subplot_titles=subplot_titles,\n",
    "        horizontal_spacing=0.05,  # Adjust as needed\n",
    "        vertical_spacing=0.12     # Adjust as needed\n",
    "    )\n",
    "\n",
    "    # For each keyword, create a subplot highlighting documents that mention it\n",
    "    for i, term in enumerate(terms, start=1):\n",
    "        row = (i - 1) // n_cols + 1\n",
    "        col = (i - 1) % n_cols + 1\n",
    "\n",
    "        # Check for keyword presence (case-insensitive)\n",
    "        presence = df[text_col].str.contains(term, case=False, na=False)\n",
    "\n",
    "        # Convert the boolean presence to an integer array (1 if True, 0 if False)\n",
    "        presence_numeric = presence.astype(int)\n",
    "\n",
    "        # Define a custom color scale for presence:\n",
    "        #   values of 0 -> lightgrey\n",
    "        #   values of 1 -> black\n",
    "        # We can define a two-step colorscale by specifying\n",
    "        # (value, color) pairs in ascending order.\n",
    "        colorscale = [\n",
    "            [0, 'lightgrey'],  # For numeric val = 0\n",
    "            [1, 'black']       # For numeric val = 1\n",
    "        ]\n",
    "\n",
    "        # Add a single Scattergl trace for this keyword\n",
    "        fig.add_trace(\n",
    "            go.Scattergl(\n",
    "                x=df[x_col],\n",
    "                y=df[y_col],\n",
    "                mode='markers',\n",
    "                marker=dict(\n",
    "                    size=marker_size,\n",
    "                    color=presence_numeric,   # numeric array\n",
    "                    colorscale=colorscale,\n",
    "                    cmin=0,                  # minimum of presence_numeric\n",
    "                    cmax=1,                  # maximum of presence_numeric\n",
    "                    showscale=False          # hide colorbar\n",
    "                ),\n",
    "                name=term,\n",
    "                showlegend=False,\n",
    "                hoverinfo='skip'  # turn off hover if you want faster interaction\n",
    "            ),\n",
    "            row=row,\n",
    "            col=col\n",
    "        )\n",
    "\n",
    "    # Update figure layout\n",
    "    fig.update_layout(\n",
    "        plot_bgcolor='white',\n",
    "        height=fig_height,\n",
    "        width=fig_width,\n",
    "        title_font=dict(size=24, family='Optima, sans-serif'),\n",
    "        font=dict(size=18, family='Optima, sans-serif'),\n",
    "        showlegend=False\n",
    "    )\n",
    "\n",
    "    # Hide axis labels, ticks, and grids for all subplots\n",
    "    fig.update_xaxes(title='', showticklabels=False, showgrid=False)\n",
    "    fig.update_yaxes(title='', showticklabels=False, showgrid=False)\n",
    "\n",
    "    return fig\n",
    "\n"
   ]
  },
  {
   "cell_type": "code",
   "execution_count": null,
   "metadata": {
    "colab": {
     "base_uri": "https://localhost:8080/",
     "height": 617,
     "output_embedded_package_id": "1ObxKhboBx4Z86nO65ryGi8BPXONDpAS8"
    },
    "executionInfo": {
     "elapsed": 8068,
     "status": "ok",
     "timestamp": 1735399885188,
     "user": {
      "displayName": "Olatomiwa Bifarin",
      "userId": "06174025613084979381"
     },
     "user_tz": 300
    },
    "id": "mzr4Qzq60mOP",
    "outputId": "d46f9c01-ad65-43db-f4a3-b6a5f5c0044e"
   },
   "outputs": [
    {
     "data": {
      "text/plain": [
       "Output hidden; open in https://colab.research.google.com to view."
      ]
     },
     "metadata": {},
     "output_type": "display_data"
    }
   ],
   "source": [
    "# ------------------- Example Usage -------------------\n",
    "\n",
    "terms_to_plot = [\"COVID-19|SARS-CoV-2\", \"Influenza|Flu\"]\n",
    "fig = plot_keyword_comparison(\n",
    "    df,\n",
    "    terms=terms_to_plot,\n",
    "    x_col='tsne_2D_x',\n",
    "    y_col='tsne_2D_y',\n",
    "    text_col='abstract',\n",
    "    n_cols=2,\n",
    "    marker_size=3, #2\n",
    "    fig_width=1200,\n",
    "    fig_height=600,\n",
    "    max_points=50000  # downsample if needed\n",
    ")\n",
    "fig.show()"
   ]
  },
  {
   "cell_type": "markdown",
   "metadata": {
    "id": "pw6SUJbg_j4J"
   },
   "source": [
    "### Version 2 - Colored Version\n",
    "Publication version"
   ]
  },
  {
   "cell_type": "markdown",
   "metadata": {
    "id": "AjTaQE2lLWUv",
    "jp-MarkdownHeadingCollapsed": true,
    "tags": []
   },
   "source": [
    "#### Plot utils"
   ]
  },
  {
   "cell_type": "markdown",
   "metadata": {
    "id": "B2vT8B5rUY6L"
   },
   "source": [
    "##### Boolean Query Parser"
   ]
  },
  {
   "cell_type": "code",
   "execution_count": null,
   "metadata": {
    "id": "qcMTKBvRSBmA"
   },
   "outputs": [],
   "source": [
    "import plotly.graph_objects as go\n",
    "from plotly.subplots import make_subplots"
   ]
  },
  {
   "cell_type": "code",
   "execution_count": null,
   "metadata": {
    "id": "ZuqSPKU3S9wq"
   },
   "outputs": [],
   "source": [
    "def parse_boolean_query(df, text_col, query):\n",
    "    \"\"\"\n",
    "    A simple parser to handle queries containing parentheses, AND, and OR, e.g.:\n",
    "        (LC-MS OR LC/MS) AND metabolomics\n",
    "        \"COVID-19 OR SARS-CoV-2\"\n",
    "        \"NMR AND method\"\n",
    "    It strips top-level parentheses, then does a top-level split by \" AND \",\n",
    "    and within each part does a split by \" OR \". All matching is case-insensitive.\n",
    "    \"\"\"\n",
    "    # Remove parentheses (this won't handle multiple nested levels)\n",
    "    query_stripped = query.replace(\"(\", \"\").replace(\")\", \"\")\n",
    "    query_upper = query_stripped.upper()\n",
    "\n",
    "    if \" AND \" in query_upper:\n",
    "        # Split by AND\n",
    "        and_parts = query_upper.split(\" AND \")\n",
    "        presence_and = None\n",
    "\n",
    "        for part in and_parts:\n",
    "            # Check if the part has an OR\n",
    "            if \" OR \" in part:\n",
    "                or_parts = part.split(\" OR \")\n",
    "                presence_or = df[text_col].str.contains(or_parts[0], case=False, na=False)\n",
    "                for or_sub in or_parts[1:]:\n",
    "                    presence_or |= df[text_col].str.contains(or_sub, case=False, na=False)\n",
    "\n",
    "                current_presence = presence_or\n",
    "            else:\n",
    "                # Single token with no OR\n",
    "                current_presence = df[text_col].str.contains(part, case=False, na=False)\n",
    "\n",
    "            if presence_and is None:\n",
    "                # First part\n",
    "                presence_and = current_presence\n",
    "            else:\n",
    "                # Combine with logical AND\n",
    "                presence_and &= current_presence\n",
    "\n",
    "        return presence_and\n",
    "\n",
    "    elif \" OR \" in query_upper:\n",
    "        # No AND, just split by OR\n",
    "        or_parts = query_upper.split(\" OR \")\n",
    "        presence_or = df[text_col].str.contains(or_parts[0], case=False, na=False)\n",
    "        for or_sub in or_parts[1:]:\n",
    "            presence_or |= df[text_col].str.contains(or_sub, case=False, na=False)\n",
    "\n",
    "        return presence_or\n",
    "\n",
    "    else:\n",
    "        # Single token with no AND or OR\n",
    "        return df[text_col].str.contains(query_upper, case=False, na=False)"
   ]
  },
  {
   "cell_type": "markdown",
   "metadata": {
    "id": "lj_O_mI6Ui6m"
   },
   "source": [
    "##### Embeddings Plot"
   ]
  },
  {
   "cell_type": "code",
   "execution_count": null,
   "metadata": {
    "id": "0Qf6oegBNgnG"
   },
   "outputs": [],
   "source": [
    "def plot_side_by_side_embeddings_boolean(\n",
    "    df,\n",
    "    x_col='tsne_2D_x',\n",
    "    y_col='tsne_2D_y',\n",
    "    text_col='abstract',\n",
    "    year_col='year',\n",
    "    queries=(\"COVID-19 OR SARS-CoV-2\", \"LC-MS AND Cancer\"),\n",
    "    query_colors=(\"orange\", \"red\"),\n",
    "    marker_size=3,\n",
    "    fig_width=1200,\n",
    "    fig_height=600,\n",
    "    custom_title=\"Boolean Query Matching vs. Year\"\n",
    "):\n",
    "    \"\"\"\n",
    "    Creates two side-by-side plots of the same 2D embeddings:\n",
    "      LEFT: Colored by Boolean query presence.\n",
    "      RIGHT: Colored by publication year (blue→red) ONLY for points matching at least one query.\n",
    "\n",
    "    Parameters\n",
    "    ----------\n",
    "    df : pd.DataFrame\n",
    "        The DataFrame containing embedding coordinates, abstracts, and year data.\n",
    "    x_col : str\n",
    "        DataFrame column for the x-axis of the embedding.\n",
    "    y_col : str\n",
    "        DataFrame column for the y-axis of the embedding.\n",
    "    text_col : str\n",
    "        Column name containing text (e.g., 'abstract') for keyword searches.\n",
    "    year_col : str\n",
    "        Column containing numeric publication year.\n",
    "    queries : tuple of str\n",
    "        Each string can include \"AND\" / \"OR\".\n",
    "        Example: (\"COVID-19 OR SARS-CoV-2\", \"LC-MS AND Cancer\")\n",
    "    query_colors : tuple of str\n",
    "        Colors to represent each Boolean query match on the LEFT subplot.\n",
    "    marker_size : int\n",
    "        Size of the scatter markers.\n",
    "    fig_width : int\n",
    "        Width of the figure in pixels.\n",
    "    fig_height : int\n",
    "        Height of the figure in pixels.\n",
    "    custom_title : str\n",
    "        Title for the entire figure.\n",
    "\n",
    "    Returns\n",
    "    -------\n",
    "    fig : plotly.graph_objects.Figure\n",
    "        The Plotly figure object containing the side-by-side subplots.\n",
    "    \"\"\"\n",
    "\n",
    "    # Ensure text column is string\n",
    "    df[text_col] = df[text_col].astype(str)\n",
    "\n",
    "    # Parse queries, find union of all matches\n",
    "    presence_list = [parse_boolean_query(df, text_col, q) for q in queries]\n",
    "    presence_any = presence_list[0]\n",
    "    for i in range(1, len(presence_list)):\n",
    "        presence_any |= presence_list[i]\n",
    "\n",
    "    # Create figure with 1 row, 2 columns\n",
    "    fig = make_subplots(\n",
    "        rows=1, cols=2,\n",
    "        subplot_titles=[\"Colored by Boolean Query Presence\", \"Colored by Year\"]\n",
    "    )\n",
    "\n",
    "    # ------------------- LEFT SUBPLOT (BOOLEAN QUERIES) -------------------\n",
    "    # Docs with no match (light grey)\n",
    "    none_mask = ~presence_any\n",
    "    fig.add_trace(\n",
    "        go.Scattergl(\n",
    "            x=df.loc[none_mask, x_col],\n",
    "            y=df.loc[none_mask, y_col],\n",
    "            mode='markers',\n",
    "            marker=dict(color='lightgrey', size=marker_size),\n",
    "            name='No match',\n",
    "            hoverinfo='skip',  # disable hover\n",
    "            showlegend=True\n",
    "        ),\n",
    "        row=1, col=1\n",
    "    )\n",
    "\n",
    "    # Plot each query in its own color\n",
    "    for query, color in zip(queries, query_colors):\n",
    "        mask = parse_boolean_query(df, text_col, query)\n",
    "        fig.add_trace(\n",
    "            go.Scattergl(\n",
    "                x=df.loc[mask, x_col],\n",
    "                y=df.loc[mask, y_col],\n",
    "                mode='markers',\n",
    "                marker=dict(color=color, size=marker_size),\n",
    "                name=query,\n",
    "                hoverinfo='skip',  # disable hover\n",
    "                showlegend=True\n",
    "            ),\n",
    "            row=1, col=1\n",
    "        )\n",
    "\n",
    "    # ------------------- RIGHT SUBPLOT (YEAR) -------------------\n",
    "    # 1) Subset your DataFrame\n",
    "    df_presence = df.loc[presence_any].copy()    # matched\n",
    "    df_no_match = df.loc[~presence_any].copy()   # no match\n",
    "\n",
    "    # 2) First trace: plot the no-match points in grey\n",
    "    fig.add_trace(\n",
    "        go.Scattergl(\n",
    "            x=df_no_match[x_col],\n",
    "            y=df_no_match[y_col],\n",
    "            mode='markers',\n",
    "            marker=dict(\n",
    "                size=marker_size,\n",
    "                color='lightgrey'\n",
    "            ),\n",
    "            #name='No match (by year subplot)',\n",
    "            hoverinfo='skip',\n",
    "            showlegend=False  # if you want a legend entry\n",
    "        ),\n",
    "        row=1, col=2\n",
    "    )\n",
    "\n",
    "    # 3) Second trace: color matched points by year (blue→yellow→red)\n",
    "    year_min = 1998 #df_presence[year_col].min()\n",
    "    year_max = 2024 #df_presence[year_col].max()\n",
    "\n",
    "    fig.add_trace(\n",
    "        go.Scattergl(\n",
    "            x=df_presence[x_col],\n",
    "            y=df_presence[y_col],\n",
    "            mode='markers',\n",
    "            marker=dict(\n",
    "                size=marker_size,\n",
    "                color=df_presence[year_col],\n",
    "                cmin=year_min,\n",
    "                cmax=year_max,\n",
    "                colorscale=[\n",
    "                    [0, 'blue'],\n",
    "                    [0.8, 'yellow'],\n",
    "                    [1, 'red']\n",
    "                ],\n",
    "                showscale=True,\n",
    "                colorbar=dict(\n",
    "                    title='Year',\n",
    "                    x=1.08,\n",
    "                    y=0.5,\n",
    "                    len=0.75\n",
    "                )\n",
    "            ),\n",
    "            name='Matched (by year)',\n",
    "            hoverinfo='skip',\n",
    "            showlegend=False\n",
    "        ),\n",
    "        row=1, col=2\n",
    "    )\n",
    "\n",
    "    # ------------------- FIGURE LAYOUT -------------------\n",
    "    fig.update_layout(\n",
    "        height=fig_height,\n",
    "        width=fig_width,\n",
    "        title_text=custom_title,\n",
    "        font=dict(family='Optima, sans-serif', size=16),\n",
    "        plot_bgcolor='white',\n",
    "        # Position legend in top-left corner of the entire figure\n",
    "        legend=dict(\n",
    "            x=0.40,\n",
    "            y=0.98,\n",
    "            xanchor='left',\n",
    "            yanchor='top',\n",
    "            orientation='v',\n",
    "            font=dict(size=12)\n",
    "        )\n",
    "    )\n",
    "\n",
    "    # Remove axis ticks & grids\n",
    "    fig.update_xaxes(showticklabels=False, showgrid=False)\n",
    "    fig.update_yaxes(showticklabels=False, showgrid=False)\n",
    "\n",
    "    return fig"
   ]
  },
  {
   "cell_type": "markdown",
   "metadata": {
    "id": "8DZAtgxwLko8",
    "jp-MarkdownHeadingCollapsed": true,
    "tags": []
   },
   "source": [
    "#### Categories Considered"
   ]
  },
  {
   "cell_type": "markdown",
   "metadata": {
    "id": "O9tLmsoaUMhD"
   },
   "source": [
    "##### COVID 19"
   ]
  },
  {
   "cell_type": "code",
   "execution_count": null,
   "metadata": {
    "colab": {
     "base_uri": "https://localhost:8080/",
     "height": 617,
     "output_embedded_package_id": "19zb9HGtMf6yfonOvu-bObeG73z1bDlJo"
    },
    "executionInfo": {
     "elapsed": 13823,
     "status": "ok",
     "timestamp": 1738074385854,
     "user": {
      "displayName": "Olatomiwa Bifarin",
      "userId": "06174025613084979381"
     },
     "user_tz": 300
    },
    "id": "YyAAyxb-_jSw",
    "outputId": "e6cae35b-7295-408d-c6f7-3db180c82ccd"
   },
   "outputs": [
    {
     "data": {
      "text/plain": [
       "Output hidden; open in https://colab.research.google.com to view."
      ]
     },
     "metadata": {},
     "output_type": "display_data"
    }
   ],
   "source": [
    "# Then call the function with real queries:\n",
    "example_queries = (\n",
    "    \"COVID-19 OR SARS-CoV-2\",  # OR example #COVID-19 OR SARS-CoV-2\n",
    "    #\"SARS\"         # AND example\n",
    ")\n",
    "example_colors = (\"mediumorchid\", \"teal\")\n",
    "\n",
    "fig = plot_side_by_side_embeddings_boolean(\n",
    "    df,\n",
    "    x_col='tsne_2D_x',\n",
    "    y_col='tsne_2D_y',\n",
    "    text_col='abstract',\n",
    "    year_col='pub_year',\n",
    "    queries=example_queries,\n",
    "    query_colors=example_colors,\n",
    "    marker_size=3,\n",
    "    fig_width=1200,\n",
    "    fig_height=600,\n",
    "    custom_title=\"Boolean Query Matching vs. Year\"\n",
    ")\n",
    "fig.show()"
   ]
  },
  {
   "cell_type": "code",
   "execution_count": null,
   "metadata": {
    "id": "oA3aj7H4OJUW"
   },
   "outputs": [],
   "source": [
    "# Save the figure to a file\n",
    "pio.write_image(fig, '/content/gdrive/My Drive/current/Metabolomics Landscape/Figures/covid19 by year.png')  # Saves as PNG\n",
    "pio.write_image(fig, '/content/gdrive/My Drive/current/Metabolomics Landscape/Figures/covid19 by year.svg')  # Saves as SVG\n",
    "#pio.write_image(fig, '/content/gdrive/My Drive/code/Metabolomics Landscape//Figures/covid19 by year.pdf')  # Saves as PDF"
   ]
  },
  {
   "cell_type": "markdown",
   "metadata": {
    "id": "owyNeiXH9U-L"
   },
   "source": [
    "##### Advanced Data Analysis"
   ]
  },
  {
   "cell_type": "markdown",
   "metadata": {
    "id": "4zWpU2qc936f"
   },
   "source": [
    "- (Machine learning OR deep learning) AND metabolomics\n",
    "- (Chemometrics OR multivariate analysis) AND metabolomics <br>\n",
    "Rationale: Contrasts classic approaches (chemometrics, e.g., PLS-DA, PCA) with newer AI/ML methods, demonstrating how the computational side of metabolomics has evolved."
   ]
  },
  {
   "cell_type": "code",
   "execution_count": null,
   "metadata": {
    "colab": {
     "base_uri": "https://localhost:8080/",
     "height": 617,
     "output_embedded_package_id": "1e1WgKWvkQVw0wzhHE_USsVmgmrmpJWPc"
    },
    "executionInfo": {
     "elapsed": 21226,
     "status": "ok",
     "timestamp": 1738077565259,
     "user": {
      "displayName": "Olatomiwa Bifarin",
      "userId": "06174025613084979381"
     },
     "user_tz": 300
    },
    "id": "MhDtY2kP8Oxb",
    "outputId": "d2f9aefb-4318-4767-fde8-6dcec4848e02"
   },
   "outputs": [
    {
     "data": {
      "text/plain": [
       "Output hidden; open in https://colab.research.google.com to view."
      ]
     },
     "metadata": {},
     "output_type": "display_data"
    }
   ],
   "source": [
    "example_queries = (\n",
    "    \"Deep learning OR Neural network\",\n",
    "    \"Chemometrics OR multivariate analysis\"\n",
    ")\n",
    "example_colors = (\"mediumorchid\", \"teal\")\n",
    "\n",
    "fig = plot_side_by_side_embeddings_boolean(\n",
    "    df,\n",
    "    x_col='tsne_2D_x',\n",
    "    y_col='tsne_2D_y',\n",
    "    text_col='abstract',\n",
    "    year_col='pub_year',\n",
    "    queries=example_queries,\n",
    "    query_colors=example_colors,\n",
    "    marker_size=4,\n",
    "    fig_width=1200,\n",
    "    fig_height=600,\n",
    "    custom_title=\"Boolean Query Matching vs. Year\"\n",
    ")\n",
    "fig.show()"
   ]
  },
  {
   "cell_type": "code",
   "execution_count": null,
   "metadata": {
    "id": "OsR7FG5GcZK3"
   },
   "outputs": [],
   "source": [
    "# Save the figure to a file\n",
    "pio.write_image(fig, '/content/gdrive/My Drive/current/Metabolomics Landscape/Figures/Deep Learning and Chemometrics.png')  # Saves as PNG\n",
    "pio.write_image(fig, '/content/gdrive/My Drive/current/Metabolomics Landscape/Figures/Deep Learning and Chemometrics.svg')  # Saves as SVG\n",
    "#pio.write_image(fig, '/content/gdrive/My Drive/code/Metabolomics Landscape//Figures/Deep Learning and Chemometrics.pdf')  # Saves as PDF"
   ]
  },
  {
   "cell_type": "code",
   "execution_count": null,
   "metadata": {
    "colab": {
     "base_uri": "https://localhost:8080/",
     "height": 617,
     "output_embedded_package_id": "176-3SVqmtOJLEclK0w-O4jPoEwliUyjz"
    },
    "executionInfo": {
     "elapsed": 10445,
     "status": "ok",
     "timestamp": 1738077578377,
     "user": {
      "displayName": "Olatomiwa Bifarin",
      "userId": "06174025613084979381"
     },
     "user_tz": 300
    },
    "id": "tLiRhGvsoR-V",
    "outputId": "7baec6d2-a038-466c-f332-6c68989dad9c"
   },
   "outputs": [
    {
     "data": {
      "text/plain": [
       "Output hidden; open in https://colab.research.google.com to view."
      ]
     },
     "metadata": {},
     "output_type": "display_data"
    }
   ],
   "source": [
    "example_queries = (\n",
    "    \"Deep learning\",\n",
    "    #\"Chemometrics OR multivariate analysis\"\n",
    ")\n",
    "example_colors = (\"mediumorchid\", \"teal\")\n",
    "\n",
    "fig = plot_side_by_side_embeddings_boolean(\n",
    "    df,\n",
    "    x_col='tsne_2D_x',\n",
    "    y_col='tsne_2D_y',\n",
    "    text_col='abstract',\n",
    "    year_col='pub_year',\n",
    "    queries=example_queries,\n",
    "    query_colors=example_colors,\n",
    "    marker_size=4,\n",
    "    fig_width=1200,\n",
    "    fig_height=600,\n",
    "    custom_title=\"Boolean Query Matching vs. Year\"\n",
    ")\n",
    "fig.show()"
   ]
  },
  {
   "cell_type": "code",
   "execution_count": null,
   "metadata": {
    "id": "gGboZbQRdct7"
   },
   "outputs": [],
   "source": [
    "# Save the figure to a file\n",
    "pio.write_image(fig, '/content/gdrive/My Drive/current/Metabolomics Landscape/Figures/Deep Learning.png')  # Saves as PNG\n",
    "pio.write_image(fig, '/content/gdrive/My Drive/current/Metabolomics Landscape/Figures/Deep Learning.svg')  # Saves as SVG\n",
    "#pio.write_image(fig, '/content/gdrive/My Drive/code/Metabolomics Landscape//Figures/Deep Learning.pdf')  # Saves as PDF"
   ]
  },
  {
   "cell_type": "markdown",
   "metadata": {
    "id": "J0IvSeWnFO4s"
   },
   "source": [
    "##### Biomarker Discovery or Metabolic Pathway"
   ]
  },
  {
   "cell_type": "code",
   "execution_count": null,
   "metadata": {
    "colab": {
     "base_uri": "https://localhost:8080/",
     "height": 617,
     "output_embedded_package_id": "1Q1qkBnZqrD0h8O8iiWL-2OZ6Nc_nc_hq"
    },
    "executionInfo": {
     "elapsed": 19198,
     "status": "ok",
     "timestamp": 1738077600083,
     "user": {
      "displayName": "Olatomiwa Bifarin",
      "userId": "06174025613084979381"
     },
     "user_tz": 300
    },
    "id": "b-crE3axRcrB",
    "outputId": "f099bae8-ec37-44e5-b0d7-d4b876cece99"
   },
   "outputs": [
    {
     "data": {
      "text/plain": [
       "Output hidden; open in https://colab.research.google.com to view."
      ]
     },
     "metadata": {},
     "output_type": "display_data"
    }
   ],
   "source": [
    "example_queries = (\n",
    "    \"Biomarker discovery\",\n",
    "    \"(Pathway analysis OR metabolic pathway) AND mechanism\"\n",
    ")\n",
    "example_colors = (\"mediumorchid\", \"teal\")\n",
    "\n",
    "fig = plot_side_by_side_embeddings_boolean(\n",
    "    df,\n",
    "    x_col='tsne_2D_x',\n",
    "    y_col='tsne_2D_y',\n",
    "    text_col='abstract',\n",
    "    year_col='pub_year',\n",
    "    queries=example_queries,\n",
    "    query_colors=example_colors,\n",
    "    marker_size=4,\n",
    "    fig_width=1200,\n",
    "    fig_height=600,\n",
    "    custom_title=\"Boolean Query Matching vs. Year\"\n",
    ")\n",
    "fig.show()"
   ]
  },
  {
   "cell_type": "code",
   "execution_count": null,
   "metadata": {
    "id": "np7Hk-Scd5S0"
   },
   "outputs": [],
   "source": [
    "# Save the figure to a file\n",
    "pio.write_image(fig, '/content/gdrive/My Drive/current/Metabolomics Landscape/Figures/Biomarker and Pathways.png')  # Saves as PNG\n",
    "pio.write_image(fig, '/content/gdrive/My Drive/current/Metabolomics Landscape/Figures/Biomarker and Pathways.svg')  # Saves as SVG\n",
    "#pio.write_image(fig, '/content/gdrive/My Drive/code/Metabolomics Landscape//Figures/Biomarker and Pathways.pdf')  # Saves as PDF"
   ]
  },
  {
   "cell_type": "code",
   "execution_count": null,
   "metadata": {
    "colab": {
     "base_uri": "https://localhost:8080/",
     "height": 617,
     "output_embedded_package_id": "1JyMbRfP7iERWehVz7XQ3HqSwIfAWQtLe"
    },
    "executionInfo": {
     "elapsed": 9465,
     "status": "ok",
     "timestamp": 1738077612716,
     "user": {
      "displayName": "Olatomiwa Bifarin",
      "userId": "06174025613084979381"
     },
     "user_tz": 300
    },
    "id": "X0HsLAH810DG",
    "outputId": "24bd5b56-4b71-4d3f-8955-344c877d98b0"
   },
   "outputs": [
    {
     "data": {
      "text/plain": [
       "Output hidden; open in https://colab.research.google.com to view."
      ]
     },
     "metadata": {},
     "output_type": "display_data"
    }
   ],
   "source": [
    "example_queries = (\n",
    "    \"Biomarker discovery\",\n",
    "    #\"(Pathway analysis OR metabolic pathway) AND mechanism\"\n",
    ")\n",
    "example_colors = (\"mediumorchid\", \"teal\")\n",
    "\n",
    "fig = plot_side_by_side_embeddings_boolean(\n",
    "    df,\n",
    "    x_col='tsne_2D_x',\n",
    "    y_col='tsne_2D_y',\n",
    "    text_col='abstract',\n",
    "    year_col='pub_year',\n",
    "    queries=example_queries,\n",
    "    query_colors=example_colors,\n",
    "    marker_size=4,\n",
    "    fig_width=1200,\n",
    "    fig_height=600,\n",
    "    custom_title=\"Boolean Query Matching vs. Year\"\n",
    ")\n",
    "fig.show()"
   ]
  },
  {
   "cell_type": "code",
   "execution_count": null,
   "metadata": {
    "id": "FVRK1XRyfRSA"
   },
   "outputs": [],
   "source": [
    "# Save the figure to a file\n",
    "pio.write_image(fig, '/content/gdrive/My Drive/current/Metabolomics Landscape/Figures/Biomarker.png')  # Saves as PNG\n",
    "pio.write_image(fig, '/content/gdrive/My Drive/current/Metabolomics Landscape/Figures/Biomarker.svg')  # Saves as SVG\n",
    "#pio.write_image(fig, '/content/gdrive/My Drive/code/Metabolomics Landscape//Figures/Biomarker.pdf')  # Saves as PDF"
   ]
  },
  {
   "cell_type": "code",
   "execution_count": null,
   "metadata": {
    "colab": {
     "base_uri": "https://localhost:8080/",
     "height": 617,
     "output_embedded_package_id": "15on84ROG7-bUvflZekILVl5ExLro96FC"
    },
    "executionInfo": {
     "elapsed": 17446,
     "status": "ok",
     "timestamp": 1738077631067,
     "user": {
      "displayName": "Olatomiwa Bifarin",
      "userId": "06174025613084979381"
     },
     "user_tz": 300
    },
    "id": "V31QttQJy4mu",
    "outputId": "23fef166-55eb-4a35-9b08-865c0b1fd79c"
   },
   "outputs": [
    {
     "data": {
      "text/plain": [
       "Output hidden; open in https://colab.research.google.com to view."
      ]
     },
     "metadata": {},
     "output_type": "display_data"
    }
   ],
   "source": [
    "example_queries = (\n",
    "    #\"Biomarker discovery\",\n",
    "    \"(Pathway analysis OR metabolic pathway) AND mechanism\",\n",
    ")\n",
    "example_colors = (\"mediumorchid\", \"teal\")\n",
    "\n",
    "fig = plot_side_by_side_embeddings_boolean(\n",
    "    df,\n",
    "    x_col='tsne_2D_x',\n",
    "    y_col='tsne_2D_y',\n",
    "    text_col='abstract',\n",
    "    year_col='pub_year',\n",
    "    queries=example_queries,\n",
    "    query_colors=example_colors,\n",
    "    marker_size=4,\n",
    "    fig_width=1200,\n",
    "    fig_height=600,\n",
    "    custom_title=\"Boolean Query Matching vs. Year\"\n",
    ")\n",
    "fig.show()"
   ]
  },
  {
   "cell_type": "markdown",
   "metadata": {
    "id": "KXLI1VJWGWwu"
   },
   "source": [
    "##### Diabetes _vs_ Cancer"
   ]
  },
  {
   "cell_type": "code",
   "execution_count": null,
   "metadata": {
    "colab": {
     "base_uri": "https://localhost:8080/",
     "height": 637,
     "output_embedded_package_id": "1M03O014TuEgsB7Vzfy3_7NdSVnrEcCaB"
    },
    "executionInfo": {
     "elapsed": 13463,
     "status": "ok",
     "timestamp": 1735416892537,
     "user": {
      "displayName": "Olatomiwa Bifarin",
      "userId": "06174025613084979381"
     },
     "user_tz": 300
    },
    "id": "kUDny_ScecEd",
    "outputId": "03bbcf85-f12c-4538-ebb1-90b0865197ae"
   },
   "outputs": [
    {
     "data": {
      "text/plain": [
       "Output hidden; open in https://colab.research.google.com to view."
      ]
     },
     "metadata": {},
     "output_type": "display_data"
    }
   ],
   "source": [
    "example_queries = (\n",
    "    \"Diabetes OR type 2 diabetes\",\n",
    "    \"Cancer\"\n",
    ")\n",
    "example_colors = (\"mediumorchid\", \"teal\")\n",
    "\n",
    "fig = plot_side_by_side_embeddings_boolean(\n",
    "    df,\n",
    "    x_col='tsne_2D_x',\n",
    "    y_col='tsne_2D_y',\n",
    "    text_col='abstract',\n",
    "    year_col='pub_year',\n",
    "    queries=example_queries,\n",
    "    query_colors=example_colors,\n",
    "    marker_size=2,\n",
    "    fig_width=1200,\n",
    "    fig_height=600,\n",
    "    custom_title=\"Boolean Query Matching vs. Year\"\n",
    ")\n",
    "fig.show()"
   ]
  },
  {
   "cell_type": "code",
   "execution_count": null,
   "metadata": {
    "id": "ly5iHkcDKm-u"
   },
   "outputs": [],
   "source": []
  }
 ],
 "metadata": {
  "colab": {
   "authorship_tag": "ABX9TyMm8IsE0hA0YsSnqJPM0ehB",
   "collapsed_sections": [
    "dvduAcVTLtgY",
    "-Qs1Rxw2Mm9I",
    "bMLNM2O_NCcO",
    "q3V4lhBQMOZE",
    "meqxw6-80Wnj",
    "B2vT8B5rUY6L"
   ],
   "machine_shape": "hm",
   "provenance": [],
   "toc_visible": true
  },
  "kernelspec": {
   "display_name": "Python 3",
   "language": "python",
   "name": "python3"
  },
  "language_info": {
   "codemirror_mode": {
    "name": "ipython",
    "version": 3
   },
   "file_extension": ".py",
   "mimetype": "text/x-python",
   "name": "python",
   "nbconvert_exporter": "python",
   "pygments_lexer": "ipython3",
   "version": "3.8.8"
  }
 },
 "nbformat": 4,
 "nbformat_minor": 4
}
